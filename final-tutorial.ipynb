{
 "cells": [
  {
   "cell_type": "markdown",
   "metadata": {},
   "source": [
    "Final Tutorial"
   ]
  },
  {
   "cell_type": "code",
   "execution_count": null,
   "metadata": {},
   "outputs": [],
   "source": [
    "import os\n",
    "import pandas as pd\n",
    "import requests\n",
    "from bs4 import BeautifulSoup\n",
    "import spotipy\n",
    "import numpy as np\n",
    "import matplotlib.pyplot as plt\n",
    "import seaborn as sns"
   ]
  },
  {
   "cell_type": "markdown",
   "metadata": {},
   "source": [
    "Use xml files to scrape from spotify charts\n",
    "for each track show their streams per day, maybe as an array or another dataframe\n",
    "from there spotipy api can be used to observe the details of these songs"
   ]
  },
  {
   "cell_type": "code",
   "execution_count": null,
   "metadata": {},
   "outputs": [],
   "source": [
    "# Collect links from spotify charts top 200 streams per day\n",
    "ref_str = \"https://spotifycharts.com/regional/global/daily/\"\n",
    "ref_arr = []\n",
    "h \n",
    "\n",
    "# gets every day from janurary 2017 to October 2020\n",
    "\n",
    "# for year in range(2017, 2021):\n",
    "for year in range(2017, 2018):\n",
    "    date = \"\"\n",
    "    \n",
    "    endingMonth = 12\n",
    "    if year == 2020:\n",
    "        endingMonth = 10\n",
    "        \n",
    "    # for month in range (1, endingMonth + 1):\n",
    "    for month in range (1,2):\n",
    "       \n",
    "        dayCount = -1\n",
    "\n",
    "        #gets proper day count per month\n",
    "        thirtyDayCountMonths = [4, 6, 9, 11]\n",
    "        if month == 2:\n",
    "            dayCount = 29\n",
    "        elif month in thirtyDayCountMonths:\n",
    "            dayCount = 30\n",
    "        else:\n",
    "            dayCount = 31\n",
    "\n",
    "        if int(month) < 10:\n",
    "            month = \"0\" + str(month)\n",
    "        # for day in range (1, daycount + 1):\n",
    "        for day in range (1, 16):\n",
    "           \n",
    "            if int(day) < 10:\n",
    "                day = \"0\" + str(day)\n",
    "\n",
    "            date = str(year) + \"-\" + str(month) + \"-\" + str(day) + \"/download\"\n",
    "            date = ref_str + date\n",
    "            ref_arr.append(date)\n",
    "\n",
    "ref_arr"
   ]
  },
  {
   "cell_type": "code",
   "execution_count": null,
   "metadata": {},
   "outputs": [],
   "source": [
    "#Loop downloading and appending of dataframes \n",
    "\n",
    "df = pd.DataFrame(columns =['position', 'track_name', 'artist', 'streams', 'url', 'date'] )\n",
    "#make dir to save to\n",
    "path = \"sheets\"\n",
    "folderExists = False\n",
    "try:\n",
    "    os.mkdir(path)\n",
    "except OSError:\n",
    "    print (\"Folder already exists\")\n",
    "    folderExists = True\n",
    "\n",
    "if not folderExists:\n",
    "    for i in ref_arr:\n",
    "        r = requests.get(i, allow_redirects = True)\n",
    "        #String manipulation to read from the correct csv files\n",
    "        date = i[48:58]\n",
    "        #print(date)\n",
    "        fileName = \"regional-global-daily-\" + date + \".csv\"\n",
    "        #print(fileName)\n",
    "        open(fileName, \"wb\").write(r.content)\n",
    "\n",
    "        os.rename(fileName, \"sheets/\" + fileName)\n",
    "\n",
    "        df_new = pd.read_csv(path + \"/\" + fileName)\n",
    "        df_new.columns= ['position', 'track_name', 'artist', 'streams', 'url']\n",
    "        df_new['date'] = date\n",
    "        \n",
    "        df_new = df_new.iloc[1:] #deletes junk row from csv conversion\n",
    "        df = df.append(df_new)\n",
    "        print(\"Downloading...\")\n",
    "\n",
    "    print(\"Done\")\n",
    "df.drop(['position'], axis=1, inplace=True) #delete position row since rank alraedy has this information\n",
    "#streams are a string of a num, must wrap as type int always\n",
    "df['streams'] = df['streams'].astype(int)"
   ]
  },
  {
   "cell_type": "code",
   "execution_count": null,
   "metadata": {},
   "outputs": [],
   "source": [
    "df"
   ]
  },
  {
   "cell_type": "code",
   "execution_count": null,
   "metadata": {
    "scrolled": true
   },
   "outputs": [],
   "source": [
    "import spotipy\n",
    "from spotipy.oauth2 import SpotifyOAuth\n",
    "from spotipy.oauth2 import SpotifyClientCredentials\n",
    "\n",
    "\n",
    "SPOTIPY_CLIENT_ID=\"ea1a162fbc6f413990542b76ab82a168\"\n",
    "SPOTIPY_CLIENT_SECRET=\"a09882042ce54f158fdd2b6baaf2b26d\"\n",
    "SPOTIPY_CLIENT_REDIRECT=\"http://www.cs.umd.edu/class/fall2020/cmsc320-0201/\"\n",
    "\n",
    "scope = \"user-library-read\"\n",
    "\n",
    "sp = spotipy.Spotify(auth_manager=SpotifyOAuth(scope=scope, client_id=SPOTIPY_CLIENT_ID, client_secret=SPOTIPY_CLIENT_SECRET, redirect_uri=SPOTIPY_CLIENT_REDIRECT))\n",
    "\n",
    "results = sp.current_user_saved_tracks()\n",
    "\n",
    "\n",
    "# How to get audio features of a track from our data frame\n",
    "#not needed anymore but good refrence for how to get trackdata\n",
    "#trackName = df.iloc[0].at['track_name']\n",
    "#trackNameWithoutSpaces = '+'.join(trackName.split())\n",
    "#print(trackNameWithoutSpaces)\n",
    "#trackItem = sp.search(trackNameWithoutSpaces, 1, 0)\n",
    "#track_id = trackItem['tracks']['items'][0]['id']\n",
    "#audiofeatures = sp.audio_features(track_id)\n",
    "#print(track_id)\n",
    "#audiofeatures[0]"
   ]
  },
  {
   "cell_type": "code",
   "execution_count": null,
   "metadata": {
    "tags": []
   },
   "outputs": [],
   "source": [
    "#gets artist genres and artist ids for each artist in dataframe and puts them in arrays\n",
    "# artist_genres = []\n",
    "# artist_ids = []\n",
    "\n",
    "# for index, row in df.iterrows():\n",
    "#     artist = row['artist']\n",
    "#     #print(index)\n",
    "#     #print(artist)\n",
    "#     trackArtistWithoutSpaces = '+'.join(artist.split())\n",
    "#     result = sp.search(trackArtistWithoutSpaces)\n",
    "#     track = result['tracks']['items'][0]\n",
    "#     artist_id = track[\"artists\"][0][\"id\"]\n",
    "#     #print(artist_id)\n",
    "#     #print(track)\n",
    "#     artist_ids.append(artist_id)\n",
    "#     artist = sp.artist(track[\"artists\"][0][\"external_urls\"][\"spotify\"])\n",
    "#     artist_genres.append(artist[\"genres\"])\n",
    "#     #print(artist[\"genres\"])\n",
    "\n"
   ]
  },
  {
   "cell_type": "code",
   "execution_count": null,
   "metadata": {},
   "outputs": [],
   "source": [
    "#add artist id and genres to dataframe\n",
    "# df['Artist Id'] = artist_ids\n",
    "# df['artist_genres'] = artist_genres"
   ]
  },
  {
   "cell_type": "code",
   "execution_count": null,
   "metadata": {},
   "outputs": [],
   "source": [
    "#print(df[\"artist_genres\"])\n",
    "\n",
    "#creates new column in dataframe based on genre filter within filter func\n",
    "# def filt_func(genre_list):\n",
    "#     genre = ['pop','rap','edm','rock','indie']\n",
    "#     result = list(filter(lambda x: x in genre, genre_list))\n",
    "#     return \"other\" if len(result) == 0 else result[0]\n",
    "#     #print(result)\n",
    "# df['genre'] = df['artist_genres'].apply(lambda x: filt_func(x))\n",
    "# df['streams'] = df['streams'].apply(lambda x: int(x))"
   ]
  },
  {
   "cell_type": "code",
   "execution_count": null,
   "metadata": {
    "tags": []
   },
   "outputs": [],
   "source": [
    "\n",
    "audioFeaturesDf = pd.DataFrame(columns=[\"duration_ms\", \"key\", \"mode\", \"time_signature\", \"acousticness\", \"danceability\", \"energy\", \"instrumentalness\", \"liveness\", \"loudness\", \"speechiness\", \"valence\", \"tempo\", \"id\", \"uri\", \"track_href\", \"analysis_url\", \"type\"])\n",
    "\n",
    "#Example lookup of a song \n",
    "trackName = df.iloc[0].at['track_name']\n",
    "trackNameWithoutSpaces = '+'.join(trackName.split())\n",
    "trackItem = sp.search(trackNameWithoutSpaces, 1, 0)\n",
    "track_id = trackItem['tracks']['items'][0]['id']\n",
    "audiofeatures = sp.audio_features(track_id)\n",
    "print(track_id)\n",
    "print(audiofeatures[0]['danceability'])\n",
    "print(row['track_name'])"
   ]
  },
  {
   "cell_type": "code",
   "execution_count": null,
   "metadata": {
    "tags": []
   },
   "outputs": [],
   "source": [
    "import time\n",
    "\n",
    "tic = time.perf_counter()\n",
    "\n",
    "#Take each song and lookup its audio features, then create a dataframe for them\n",
    "print(\"Searching...\")\n",
    "for index, row in df.iterrows():\n",
    "    trackName = df.iloc[index - 1].at['track_name']\n",
    "    trackNameWithoutSpaces = '+'.join(trackName.split())\n",
    "    trackItem = sp.search(trackNameWithoutSpaces, 1, 0)\n",
    "    audiofeatures = {'duration_ms' : np.nan, 'key' : np.nan, 'mode' : np.nan, 'time_signature' : np.nan, 'acousticness' : np.nan, 'danceability' : np.nan, 'energy' : np.nan, 'instrumentalness' : np.nan, 'liveness' : np.nan, 'loudness' : np.nan, 'speechiness' : np.nan, 'valence' : np.nan, 'tempo' : np.nan, 'id' : np.nan, 'uri' : np.nan, 'track_href' : np.nan, 'analysis_url' : np.nan, 'type' : np.nan, }\n",
    "    if (len(trackItem['tracks']['items']) != 0):\n",
    "        track_id = trackItem['tracks']['items'][0]['id']\n",
    "        audiofeatures = sp.audio_features(track_id)[0]\n",
    "    audioFeaturesDf = audioFeaturesDf.append(audiofeatures, ignore_index=True)\n",
    "toc = time.perf_counter()\n",
    "print(f\"Searches took {toc - tic:0.4f} mf seconds damn\")\n",
    "\n",
    "\n",
    "\n",
    "audioFeaturesDf"
   ]
  },
  {
   "cell_type": "code",
   "execution_count": null,
   "metadata": {},
   "outputs": [],
   "source": [
    "#Append audio features to master dataframe\n",
    "audioFeaturesDf\n",
    "df['duration_ms'] = audioFeaturesDf['duration_ms']\n",
    "df['acousticness'] = audioFeaturesDf['acousticness']\n",
    "df['danceability'] = audioFeaturesDf['danceability']\n",
    "df['energy'] = audioFeaturesDf['energy']\n",
    "df['instrumentalness'] = audioFeaturesDf['instrumentalness']\n",
    "df['liveness'] = audioFeaturesDf['liveness']\n",
    "df['loudness'] = audioFeaturesDf['loudness']\n",
    "df['speechiness'] = audioFeaturesDf['speechiness']\n",
    "df['valence'] = audioFeaturesDf['valence']\n",
    "df['tempo'] = audioFeaturesDf['tempo']\n",
    "df"
   ]
  },
  {
   "cell_type": "code",
   "execution_count": null,
   "metadata": {},
   "outputs": [],
   "source": [
    "#visualization\n",
    "#plotting all the new metrics in our dataframe vs streams"
   ]
  },
  {
   "cell_type": "code",
   "execution_count": null,
   "metadata": {},
   "outputs": [],
   "source": []
  },
  {
   "cell_type": "code",
   "execution_count": null,
   "metadata": {},
   "outputs": [],
   "source": [
    "#Histogram takes 100 random tracks, takes the average of all their streams, then does this 100 times\n",
    "#Is a standarrd deviation\n",
    "\n",
    "\n",
    "from scipy.stats import normaltest\n",
    "from numpy.random import seed\n",
    "from numpy.random import randn\n",
    "\n",
    "\n",
    "alpha = 0.05\n",
    "#data = df['tempo'].sample(n=10).array\n",
    "data = []\n",
    "for i in range(0,100):\n",
    "    data.append(np.mean(df['streams'].sample(n=100)))\n",
    "print(data)\n",
    "plt.hist(data)\n",
    "plt.xlabel(\"Estimate\")\n",
    "plt.ylabel(\"Frequency\")"
   ]
  },
  {
   "cell_type": "code",
   "execution_count": null,
   "metadata": {},
   "outputs": [],
   "source": []
  },
  {
   "cell_type": "code",
   "execution_count": null,
   "metadata": {},
   "outputs": [],
   "source": [
    "plt.scatter(df['duration_ms'],df['streams'])\n",
    "plt.xlabel('duration in milliseconds')\n",
    "plt.ylabel('streams in millions')"
   ]
  },
  {
   "cell_type": "code",
   "execution_count": null,
   "metadata": {},
   "outputs": [],
   "source": [
    "plt.scatter(df['acousticness'],df['streams'])\n",
    "plt.xlabel('accousticness scale of 0-1')\n",
    "plt.ylabel('streams in millions')"
   ]
  },
  {
   "cell_type": "code",
   "execution_count": null,
   "metadata": {},
   "outputs": [],
   "source": [
    "plt.scatter(df['danceability'],df['streams'])\n",
    "plt.xlabel('danceability scale of 0-1')\n",
    "plt.ylabel('streams in millions')"
   ]
  },
  {
   "cell_type": "code",
   "execution_count": null,
   "metadata": {},
   "outputs": [],
   "source": [
    "plt.scatter(df['energy'],df['streams'])\n",
    "plt.xlabel('energy scale of 0-1')\n",
    "plt.ylabel('streams in millions')"
   ]
  },
  {
   "cell_type": "code",
   "execution_count": null,
   "metadata": {},
   "outputs": [],
   "source": [
    "plt.scatter(df['instrumentalness'],df['streams'])\n",
    "plt.xlabel('instrumentalness scale of 0-1')\n",
    "plt.ylabel('streams in millions')"
   ]
  },
  {
   "cell_type": "code",
   "execution_count": null,
   "metadata": {},
   "outputs": [],
   "source": [
    "plt.scatter(df['liveness'],df['streams'])\n",
    "plt.xlabel('liveness scale of 0-1')\n",
    "plt.ylabel('streams in millions')"
   ]
  },
  {
   "cell_type": "code",
   "execution_count": null,
   "metadata": {},
   "outputs": [],
   "source": [
    "plt.scatter(df['loudness'],df['streams'])\n",
    "plt.xlabel('loudness SCALE???????????????????')\n",
    "plt.ylabel('streams in millions')"
   ]
  },
  {
   "cell_type": "code",
   "execution_count": null,
   "metadata": {},
   "outputs": [],
   "source": [
    "plt.scatter(df['speechiness'],df['streams'])\n",
    "plt.xlabel('speechiness scale of 0-.5')\n",
    "plt.ylabel('streams in millions')"
   ]
  },
  {
   "cell_type": "code",
   "execution_count": null,
   "metadata": {},
   "outputs": [],
   "source": [
    "plt.scatter(df['valence'],df['streams'])\n",
    "plt.xlabel('valence scale of 0-1')\n",
    "plt.ylabel('streams in millions')"
   ]
  },
  {
   "cell_type": "code",
   "execution_count": null,
   "metadata": {},
   "outputs": [],
   "source": [
    "plt.scatter(df['tempo'],df['streams'])\n",
    "plt.xlabel('tempo scale of 0-200')\n",
    "plt.ylabel('streams in millions')"
   ]
  },
  {
   "cell_type": "code",
   "execution_count": null,
   "metadata": {},
   "outputs": [],
   "source": [
    "#violin plot of genre vs streams in millions\n",
    "ax = sns.violinplot(x='genre', y='streams', data=df, palette='muted')\n"
   ]
  },
  {
   "cell_type": "code",
   "execution_count": null,
   "metadata": {},
   "outputs": [],
   "source": [
    "plt.scatter(df['date'],df['streams'])\n",
    "plt.xlabel('date')\n",
    "plt.ylabel('streams in millions')"
   ]
  },
  {
   "cell_type": "code",
   "execution_count": null,
   "metadata": {},
   "outputs": [],
   "source": []
  }
 ],
 "metadata": {
  "kernelspec": {
   "display_name": "Python 3",
   "language": "python",
   "name": "python3"
  },
  "language_info": {
   "codemirror_mode": {
    "name": "ipython",
    "version": 3
   },
   "file_extension": ".py",
   "mimetype": "text/x-python",
   "name": "python",
   "nbconvert_exporter": "python",
   "pygments_lexer": "ipython3",
   "version": "3.8.3-final"
  }
 },
 "nbformat": 4,
 "nbformat_minor": 2
}