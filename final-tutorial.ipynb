{
 "metadata": {
  "language_info": {
   "codemirror_mode": {
    "name": "ipython",
    "version": 3
   },
   "file_extension": ".py",
   "mimetype": "text/x-python",
   "name": "python",
   "nbconvert_exporter": "python",
   "pygments_lexer": "ipython3",
   "version": "3.8.3-final"
  },
  "orig_nbformat": 2,
  "kernelspec": {
   "name": "Python 3.8.3 64-bit ('base': conda)",
   "display_name": "Python 3.8.3 64-bit ('base': conda)",
   "metadata": {
    "interpreter": {
     "hash": "2353c1055d9405d98641c49ee6ca5f0d863e3f8d0210ebf561e879a55f5c30e9"
    }
   }
  }
 },
 "nbformat": 4,
 "nbformat_minor": 2,
 "cells": [
  {
   "source": [
    "Final Tutorial"
   ],
   "cell_type": "markdown",
   "metadata": {}
  },
  {
   "cell_type": "code",
   "execution_count": 1,
   "metadata": {},
   "outputs": [],
   "source": [
    "import pandas as pd\n",
    "import requests\n",
    "from bs4 import BeautifulSoup"
   ]
  },
  {
   "source": [
    "Use xml files to scrape from spotify charts\n",
    "for each track show their streams per day, maybe as an array or another dataframe\n",
    "from there spotipy api can be used to observe the details of these songs"
   ],
   "cell_type": "markdown",
   "metadata": {}
  },
  {
   "cell_type": "code",
   "execution_count": 2,
   "metadata": {},
   "outputs": [
    {
     "output_type": "execute_result",
     "data": {
      "text/plain": [
       "['https://spotifycharts.com/regional/global/daily/2020-01-01/download',\n",
       " 'https://spotifycharts.com/regional/global/daily/2020-02-01/download',\n",
       " 'https://spotifycharts.com/regional/global/daily/2020-03-01/download',\n",
       " 'https://spotifycharts.com/regional/global/daily/2020-04-01/download',\n",
       " 'https://spotifycharts.com/regional/global/daily/2020-05-01/download',\n",
       " 'https://spotifycharts.com/regional/global/daily/2020-06-01/download',\n",
       " 'https://spotifycharts.com/regional/global/daily/2020-07-01/download',\n",
       " 'https://spotifycharts.com/regional/global/daily/2020-08-01/download',\n",
       " 'https://spotifycharts.com/regional/global/daily/2020-09-01/download',\n",
       " 'https://spotifycharts.com/regional/global/daily/2020-10-01/download']"
      ]
     },
     "metadata": {},
     "execution_count": 2
    }
   ],
   "source": [
    "# Collect links from spotify charts top 200 streams per day\n",
    "ref_str = \"https://spotifycharts.com/regional/global/daily/\"\n",
    "ref_arr = []\n",
    "for x in range (1,11):\n",
    "    date = \"2020-\"\n",
    "    if x<10:\n",
    "        date = date+ \"0\" + str(x) + \"-01/download\"\n",
    "    else:\n",
    "        date = date + str(x) + \"-01/download\"\n",
    "    date = ref_str + date\n",
    "    ref_arr.append(date)\n",
    "\n",
    "ref_arr"
   ]
  },
  {
   "cell_type": "code",
   "execution_count": 3,
   "metadata": {},
   "outputs": [
    {
     "output_type": "stream",
     "name": "stdout",
     "text": [
      "2020-01-01\n",
      "regional-global-daily-2020-01-01.csv\n",
      "2020-02-01\n",
      "regional-global-daily-2020-02-01.csv\n",
      "2020-03-01\n",
      "regional-global-daily-2020-03-01.csv\n",
      "2020-04-01\n",
      "regional-global-daily-2020-04-01.csv\n",
      "2020-05-01\n",
      "regional-global-daily-2020-05-01.csv\n",
      "2020-06-01\n",
      "regional-global-daily-2020-06-01.csv\n",
      "2020-07-01\n",
      "regional-global-daily-2020-07-01.csv\n",
      "2020-08-01\n",
      "regional-global-daily-2020-08-01.csv\n",
      "2020-09-01\n",
      "regional-global-daily-2020-09-01.csv\n",
      "2020-10-01\n",
      "regional-global-daily-2020-10-01.csv\n"
     ]
    }
   ],
   "source": [
    "#Loop downloading and appending of dataframes \n",
    "\n",
    "df = pd.DataFrame(columns =['position', 'track_name', 'artist', 'streams', 'url', 'date'] )\n",
    "\n",
    "for i in ref_arr:\n",
    "    r = requests.get(i, allow_redirects = True)\n",
    "    #String manipulation to read from the correct csv files\n",
    "    date = i[48:58]\n",
    "    print(date)\n",
    "    fileName = \"regional-global-daily-\" + date + \".csv\"\n",
    "    print(fileName)\n",
    "    open(fileName, \"wb\").write(r.content)\n",
    "\n",
    "    df_new = pd.read_csv(fileName)\n",
    "    df_new.columns= ['position', 'track_name', 'artist', 'streams', 'url']\n",
    "    df_new['date'] = date\n",
    "    \n",
    "    df_new = df_new.iloc[1:] #deletes junk row from csv conversion\n",
    "    df = df.append(df_new)\n",
    "\n",
    "\n",
    "\n",
    "df.drop(['position'], axis=1, inplace=True) #delete position row since rank alraedy has this information"
   ]
  },
  {
   "cell_type": "code",
   "execution_count": 4,
   "metadata": {},
   "outputs": [
    {
     "output_type": "execute_result",
     "data": {
      "text/plain": [
       "                 track_name          artist  streams  \\\n",
       "1              Dance Monkey     Tones And I  6155025   \n",
       "2                   ROXANNE  Arizona Zervas  4133489   \n",
       "3                      Tusa         KAROL G  4017964   \n",
       "4                   Circles     Post Malone  3283180   \n",
       "5                  Memories        Maroon 5  3127585   \n",
       "..                      ...             ...      ...   \n",
       "196             Money Trees  Kendrick Lamar   680809   \n",
       "197            Tak Tiki Tak      Harry Nach   679525   \n",
       "198                    July      Noah Cyrus   667052   \n",
       "199                 Bruises   Lewis Capaldi   666575   \n",
       "200  exile (feat. Bon Iver)    Taylor Swift   665377   \n",
       "\n",
       "                                                   url        date  \n",
       "1    https://open.spotify.com/track/1rgnBhdG2JDFTbY...  2020-01-01  \n",
       "2    https://open.spotify.com/track/696DnlkuDOXcMAn...  2020-01-01  \n",
       "3    https://open.spotify.com/track/7k4t7uLgtOxPwTp...  2020-01-01  \n",
       "4    https://open.spotify.com/track/21jGcNKet2qwijl...  2020-01-01  \n",
       "5    https://open.spotify.com/track/2b8fOow8UzyDFAE...  2020-01-01  \n",
       "..                                                 ...         ...  \n",
       "196  https://open.spotify.com/track/2HbKqm4o0w5wEeE...  2020-10-01  \n",
       "197  https://open.spotify.com/track/7gwwt1IaAWwmB7a...  2020-10-01  \n",
       "198  https://open.spotify.com/track/6J2LdBN97cDWn0M...  2020-10-01  \n",
       "199  https://open.spotify.com/track/4Of7rzpRpV1mWRb...  2020-10-01  \n",
       "200  https://open.spotify.com/track/4pvb0WLRcMtbPGm...  2020-10-01  \n",
       "\n",
       "[2000 rows x 5 columns]"
      ],
      "text/html": "<div>\n<style scoped>\n    .dataframe tbody tr th:only-of-type {\n        vertical-align: middle;\n    }\n\n    .dataframe tbody tr th {\n        vertical-align: top;\n    }\n\n    .dataframe thead th {\n        text-align: right;\n    }\n</style>\n<table border=\"1\" class=\"dataframe\">\n  <thead>\n    <tr style=\"text-align: right;\">\n      <th></th>\n      <th>track_name</th>\n      <th>artist</th>\n      <th>streams</th>\n      <th>url</th>\n      <th>date</th>\n    </tr>\n  </thead>\n  <tbody>\n    <tr>\n      <th>1</th>\n      <td>Dance Monkey</td>\n      <td>Tones And I</td>\n      <td>6155025</td>\n      <td>https://open.spotify.com/track/1rgnBhdG2JDFTbY...</td>\n      <td>2020-01-01</td>\n    </tr>\n    <tr>\n      <th>2</th>\n      <td>ROXANNE</td>\n      <td>Arizona Zervas</td>\n      <td>4133489</td>\n      <td>https://open.spotify.com/track/696DnlkuDOXcMAn...</td>\n      <td>2020-01-01</td>\n    </tr>\n    <tr>\n      <th>3</th>\n      <td>Tusa</td>\n      <td>KAROL G</td>\n      <td>4017964</td>\n      <td>https://open.spotify.com/track/7k4t7uLgtOxPwTp...</td>\n      <td>2020-01-01</td>\n    </tr>\n    <tr>\n      <th>4</th>\n      <td>Circles</td>\n      <td>Post Malone</td>\n      <td>3283180</td>\n      <td>https://open.spotify.com/track/21jGcNKet2qwijl...</td>\n      <td>2020-01-01</td>\n    </tr>\n    <tr>\n      <th>5</th>\n      <td>Memories</td>\n      <td>Maroon 5</td>\n      <td>3127585</td>\n      <td>https://open.spotify.com/track/2b8fOow8UzyDFAE...</td>\n      <td>2020-01-01</td>\n    </tr>\n    <tr>\n      <th>...</th>\n      <td>...</td>\n      <td>...</td>\n      <td>...</td>\n      <td>...</td>\n      <td>...</td>\n    </tr>\n    <tr>\n      <th>196</th>\n      <td>Money Trees</td>\n      <td>Kendrick Lamar</td>\n      <td>680809</td>\n      <td>https://open.spotify.com/track/2HbKqm4o0w5wEeE...</td>\n      <td>2020-10-01</td>\n    </tr>\n    <tr>\n      <th>197</th>\n      <td>Tak Tiki Tak</td>\n      <td>Harry Nach</td>\n      <td>679525</td>\n      <td>https://open.spotify.com/track/7gwwt1IaAWwmB7a...</td>\n      <td>2020-10-01</td>\n    </tr>\n    <tr>\n      <th>198</th>\n      <td>July</td>\n      <td>Noah Cyrus</td>\n      <td>667052</td>\n      <td>https://open.spotify.com/track/6J2LdBN97cDWn0M...</td>\n      <td>2020-10-01</td>\n    </tr>\n    <tr>\n      <th>199</th>\n      <td>Bruises</td>\n      <td>Lewis Capaldi</td>\n      <td>666575</td>\n      <td>https://open.spotify.com/track/4Of7rzpRpV1mWRb...</td>\n      <td>2020-10-01</td>\n    </tr>\n    <tr>\n      <th>200</th>\n      <td>exile (feat. Bon Iver)</td>\n      <td>Taylor Swift</td>\n      <td>665377</td>\n      <td>https://open.spotify.com/track/4pvb0WLRcMtbPGm...</td>\n      <td>2020-10-01</td>\n    </tr>\n  </tbody>\n</table>\n<p>2000 rows × 5 columns</p>\n</div>"
     },
     "metadata": {},
     "execution_count": 4
    }
   ],
   "source": [
    "df"
   ]
  }
 ]
}