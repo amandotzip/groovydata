{
 "cells": [
  {
   "cell_type": "markdown",
   "metadata": {},
   "source": [
    "Final Tutorial"
   ]
  },
  {
   "cell_type": "code",
   "execution_count": 48,
   "metadata": {},
   "outputs": [],
   "source": [
    "import os\n",
    "import pandas as pd\n",
    "import requests\n",
    "from bs4 import BeautifulSoup\n",
    "import spotipy\n",
    "import numpy as np\n",
    "import matplotlib.pyplot as plt\n",
    "import seaborn as sns"
   ]
  },
  {
   "cell_type": "markdown",
   "metadata": {},
   "source": [
    "Use xml files to scrape from spotify charts\n",
    "for each track show their streams per day, maybe as an array or another dataframe\n",
    "from there spotipy api can be used to observe the details of these songs"
   ]
  },
  {
   "cell_type": "code",
   "execution_count": 49,
   "metadata": {},
   "outputs": [
    {
     "output_type": "execute_result",
     "data": {
      "text/plain": [
       "['https://spotifycharts.com/regional/global/daily/2017-01-01/download',\n",
       " 'https://spotifycharts.com/regional/global/daily/2017-01-02/download',\n",
       " 'https://spotifycharts.com/regional/global/daily/2017-01-03/download',\n",
       " 'https://spotifycharts.com/regional/global/daily/2017-01-04/download',\n",
       " 'https://spotifycharts.com/regional/global/daily/2017-01-05/download',\n",
       " 'https://spotifycharts.com/regional/global/daily/2017-01-06/download',\n",
       " 'https://spotifycharts.com/regional/global/daily/2017-01-07/download',\n",
       " 'https://spotifycharts.com/regional/global/daily/2017-01-08/download',\n",
       " 'https://spotifycharts.com/regional/global/daily/2017-01-09/download',\n",
       " 'https://spotifycharts.com/regional/global/daily/2017-01-10/download',\n",
       " 'https://spotifycharts.com/regional/global/daily/2017-01-11/download',\n",
       " 'https://spotifycharts.com/regional/global/daily/2017-01-12/download',\n",
       " 'https://spotifycharts.com/regional/global/daily/2017-01-13/download',\n",
       " 'https://spotifycharts.com/regional/global/daily/2017-01-14/download',\n",
       " 'https://spotifycharts.com/regional/global/daily/2017-01-15/download']"
      ]
     },
     "metadata": {},
     "execution_count": 49
    }
   ],
   "source": [
    "# Collect links from spotify charts top 200 streams per day\n",
    "ref_str = \"https://spotifycharts.com/regional/global/daily/\"\n",
    "ref_arr = []\n",
    "\n",
    "# gets every day from janurary 2017 to October 2020\n",
    "\n",
    "# for year in range(2017, 2021):\n",
    "for year in range(2017, 2018):\n",
    "    date = \"\"\n",
    "    \n",
    "    endingMonth = 12\n",
    "    if year == 2020:\n",
    "        endingMonth = 10\n",
    "        \n",
    "    # for month in range (1, endingMonth + 1):\n",
    "    for month in range (1,2):\n",
    "       \n",
    "        dayCount = -1\n",
    "\n",
    "        #gets proper day count per month\n",
    "        thirtyDayCountMonths = [4, 6, 9, 11]\n",
    "        if month == 2:\n",
    "            dayCount = 29\n",
    "        elif month in thirtyDayCountMonths:\n",
    "            dayCount = 30\n",
    "        else:\n",
    "            dayCount = 31\n",
    "\n",
    "        if int(month) < 10:\n",
    "            month = \"0\" + str(month)\n",
    "        for day in range (1, 16):\n",
    "           \n",
    "            if int(day) < 10:\n",
    "                day = \"0\" + str(day)\n",
    "\n",
    "            date = str(year) + \"-\" + str(month) + \"-\" + str(day) + \"/download\"\n",
    "            date = ref_str + date\n",
    "            ref_arr.append(date)\n",
    "\n",
    "ref_arr"
   ]
  },
  {
   "cell_type": "code",
   "execution_count": 50,
   "metadata": {},
   "outputs": [
    {
     "output_type": "stream",
     "name": "stdout",
     "text": [
      "Folder already exists\n"
     ]
    }
   ],
   "source": [
    "#Loop downloading and appending of dataframes \n",
    "\n",
    "df = pd.DataFrame(columns =['position', 'track_name', 'artist', 'streams', 'url', 'date'] )\n",
    "#make dir to save to\n",
    "path = \"sheets\"\n",
    "try:\n",
    "    os.mkdir(path)\n",
    "except OSError:\n",
    "    print (\"Folder already exists\")\n",
    "\n",
    "for i in ref_arr:\n",
    "    r = requests.get(i, allow_redirects = True)\n",
    "    #String manipulation to read from the correct csv files\n",
    "    date = i[48:58]\n",
    "    #print(date)\n",
    "    fileName = \"regional-global-daily-\" + date + \".csv\"\n",
    "    #print(fileName)\n",
    "    open(fileName, \"wb\").write(r.content)\n",
    "\n",
    "    #os.rename(fileName, \"sheets/\" + fileName)\n",
    "\n",
    "    df_new = pd.read_csv(fileName)\n",
    "    df_new.columns= ['position', 'track_name', 'artist', 'streams', 'url']\n",
    "    df_new['date'] = date\n",
    "    \n",
    "    df_new = df_new.iloc[1:] #deletes junk row from csv conversion\n",
    "    df = df.append(df_new)\n",
    "\n",
    "\n",
    "\n",
    "df.drop(['position'], axis=1, inplace=True) #delete position row since rank alraedy has this information"
   ]
  },
  {
   "cell_type": "code",
   "execution_count": 51,
   "metadata": {},
   "outputs": [
    {
     "output_type": "execute_result",
     "data": {
      "text/plain": [
       "                                  track_name            artist  streams  \\\n",
       "1                                    Starboy        The Weeknd  3135625   \n",
       "2                                     Closer  The Chainsmokers  3015525   \n",
       "3                            Let Me Love You          DJ Snake  2545384   \n",
       "4    Rockabye (feat. Sean Paul & Anne-Marie)      Clean Bandit  2356604   \n",
       "5                                  One Dance             Drake  2259887   \n",
       "..                                       ...               ...      ...   \n",
       "196                                 You & Me     Marc E. Bassy   348357   \n",
       "197                       Can't Feel My Face        The Weeknd   347804   \n",
       "198                            White Iverson       Post Malone   342787   \n",
       "199                          Te Quiero Pa´Mi          Don Omar   342480   \n",
       "200                       When We Were Young             Adele   338261   \n",
       "\n",
       "                                                   url        date  \n",
       "1    https://open.spotify.com/track/5aAx2yezTd8zXrk...  2017-01-01  \n",
       "2    https://open.spotify.com/track/7BKLCZ1jbUBVqRi...  2017-01-01  \n",
       "3    https://open.spotify.com/track/4pdPtRcBmOSQDlJ...  2017-01-01  \n",
       "4    https://open.spotify.com/track/5knuzwU65gJK7IF...  2017-01-01  \n",
       "5    https://open.spotify.com/track/1xznGGDReH1oQq0...  2017-01-01  \n",
       "..                                                 ...         ...  \n",
       "196  https://open.spotify.com/track/4QdovcM8j50QPly...  2017-01-15  \n",
       "197  https://open.spotify.com/track/6RsWqX8zABZLhZy...  2017-01-15  \n",
       "198  https://open.spotify.com/track/6eT7xZZlB2mwyzJ...  2017-01-15  \n",
       "199  https://open.spotify.com/track/3BY2mafsbsoKGqS...  2017-01-15  \n",
       "200  https://open.spotify.com/track/7IWkJwX9C0J7tHu...  2017-01-15  \n",
       "\n",
       "[3000 rows x 5 columns]"
      ],
      "text/html": "<div>\n<style scoped>\n    .dataframe tbody tr th:only-of-type {\n        vertical-align: middle;\n    }\n\n    .dataframe tbody tr th {\n        vertical-align: top;\n    }\n\n    .dataframe thead th {\n        text-align: right;\n    }\n</style>\n<table border=\"1\" class=\"dataframe\">\n  <thead>\n    <tr style=\"text-align: right;\">\n      <th></th>\n      <th>track_name</th>\n      <th>artist</th>\n      <th>streams</th>\n      <th>url</th>\n      <th>date</th>\n    </tr>\n  </thead>\n  <tbody>\n    <tr>\n      <th>1</th>\n      <td>Starboy</td>\n      <td>The Weeknd</td>\n      <td>3135625</td>\n      <td>https://open.spotify.com/track/5aAx2yezTd8zXrk...</td>\n      <td>2017-01-01</td>\n    </tr>\n    <tr>\n      <th>2</th>\n      <td>Closer</td>\n      <td>The Chainsmokers</td>\n      <td>3015525</td>\n      <td>https://open.spotify.com/track/7BKLCZ1jbUBVqRi...</td>\n      <td>2017-01-01</td>\n    </tr>\n    <tr>\n      <th>3</th>\n      <td>Let Me Love You</td>\n      <td>DJ Snake</td>\n      <td>2545384</td>\n      <td>https://open.spotify.com/track/4pdPtRcBmOSQDlJ...</td>\n      <td>2017-01-01</td>\n    </tr>\n    <tr>\n      <th>4</th>\n      <td>Rockabye (feat. Sean Paul &amp; Anne-Marie)</td>\n      <td>Clean Bandit</td>\n      <td>2356604</td>\n      <td>https://open.spotify.com/track/5knuzwU65gJK7IF...</td>\n      <td>2017-01-01</td>\n    </tr>\n    <tr>\n      <th>5</th>\n      <td>One Dance</td>\n      <td>Drake</td>\n      <td>2259887</td>\n      <td>https://open.spotify.com/track/1xznGGDReH1oQq0...</td>\n      <td>2017-01-01</td>\n    </tr>\n    <tr>\n      <th>...</th>\n      <td>...</td>\n      <td>...</td>\n      <td>...</td>\n      <td>...</td>\n      <td>...</td>\n    </tr>\n    <tr>\n      <th>196</th>\n      <td>You &amp; Me</td>\n      <td>Marc E. Bassy</td>\n      <td>348357</td>\n      <td>https://open.spotify.com/track/4QdovcM8j50QPly...</td>\n      <td>2017-01-15</td>\n    </tr>\n    <tr>\n      <th>197</th>\n      <td>Can't Feel My Face</td>\n      <td>The Weeknd</td>\n      <td>347804</td>\n      <td>https://open.spotify.com/track/6RsWqX8zABZLhZy...</td>\n      <td>2017-01-15</td>\n    </tr>\n    <tr>\n      <th>198</th>\n      <td>White Iverson</td>\n      <td>Post Malone</td>\n      <td>342787</td>\n      <td>https://open.spotify.com/track/6eT7xZZlB2mwyzJ...</td>\n      <td>2017-01-15</td>\n    </tr>\n    <tr>\n      <th>199</th>\n      <td>Te Quiero Pa´Mi</td>\n      <td>Don Omar</td>\n      <td>342480</td>\n      <td>https://open.spotify.com/track/3BY2mafsbsoKGqS...</td>\n      <td>2017-01-15</td>\n    </tr>\n    <tr>\n      <th>200</th>\n      <td>When We Were Young</td>\n      <td>Adele</td>\n      <td>338261</td>\n      <td>https://open.spotify.com/track/7IWkJwX9C0J7tHu...</td>\n      <td>2017-01-15</td>\n    </tr>\n  </tbody>\n</table>\n<p>3000 rows × 5 columns</p>\n</div>"
     },
     "metadata": {},
     "execution_count": 51
    }
   ],
   "source": [
    "df"
   ]
  },
  {
   "cell_type": "code",
   "execution_count": 52,
   "metadata": {
    "scrolled": true
   },
   "outputs": [],
   "source": [
    "import spotipy\n",
    "from spotipy.oauth2 import SpotifyOAuth\n",
    "from spotipy.oauth2 import SpotifyClientCredentials\n",
    "\n",
    "\n",
    "SPOTIPY_CLIENT_ID=\"ea1a162fbc6f413990542b76ab82a168\"\n",
    "SPOTIPY_CLIENT_SECRET=\"a09882042ce54f158fdd2b6baaf2b26d\"\n",
    "SPOTIPY_CLIENT_REDIRECT=\"http://www.cs.umd.edu/class/fall2020/cmsc320-0201/\"\n",
    "\n",
    "scope = \"user-library-read\"\n",
    "\n",
    "sp = spotipy.Spotify(auth_manager=SpotifyOAuth(scope=scope, client_id=SPOTIPY_CLIENT_ID, client_secret=SPOTIPY_CLIENT_SECRET, redirect_uri=SPOTIPY_CLIENT_REDIRECT))\n",
    "\n",
    "results = sp.current_user_saved_tracks()\n",
    "\n",
    "\n",
    "# How to get audio features of a track from our data frame\n",
    "#not needed anymore but good refrence for how to get trackdata\n",
    "#trackName = df.iloc[0].at['track_name']\n",
    "#trackNameWithoutSpaces = '+'.join(trackName.split())\n",
    "#print(trackNameWithoutSpaces)\n",
    "#trackItem = sp.search(trackNameWithoutSpaces, 1, 0)\n",
    "#track_id = trackItem['tracks']['items'][0]['id']\n",
    "#audiofeatures = sp.audio_features(track_id)\n",
    "#print(track_id)\n",
    "#audiofeatures[0]"
   ]
  },
  {
   "cell_type": "code",
   "execution_count": null,
   "metadata": {
    "tags": [
     "outputPrepend"
    ]
   },
   "outputs": [],
   "source": [
    "#gets artist genres and artist ids for each artist in dataframe and puts them in arrays\n",
    "artist_genres = []\n",
    "artist_ids = []\n",
    "\n",
    "for index, row in df.iterrows():\n",
    "    artist = row['artist']\n",
    "    #print(index)\n",
    "    #print(artist)\n",
    "    trackArtistWithoutSpaces = '+'.join(artist.split())\n",
    "    result = sp.search(trackArtistWithoutSpaces)\n",
    "    track = result['tracks']['items'][0]\n",
    "    artist_id = track[\"artists\"][0][\"id\"]\n",
    "    #print(artist_id)\n",
    "    #print(track)\n",
    "    artist_ids.append(artist_id)\n",
    "    artist = sp.artist(track[\"artists\"][0][\"external_urls\"][\"spotify\"])\n",
    "    artist_genres.append(artist[\"genres\"])\n",
    "    #print(artist[\"genres\"])\n",
    "\n"
   ]
  },
  {
   "cell_type": "code",
   "execution_count": null,
   "metadata": {},
   "outputs": [],
   "source": [
    "#add artist id and genres to dataframe\n",
    "df['Artist Id'] = artist_ids\n",
    "df['artist_genres'] = artist_genres"
   ]
  },
  {
   "cell_type": "code",
   "execution_count": null,
   "metadata": {},
   "outputs": [],
   "source": [
    "#print(df[\"artist_genres\"])\n",
    "\n",
    "#creates new column in dataframe based on genre filter within filter func\n",
    "def filt_func(genre_list):\n",
    "    genre = ['pop','rap','edm','rock','indie']\n",
    "    result = list(filter(lambda x: x in genre, genre_list))\n",
    "    return \"other\" if len(result) == 0 else result[0]\n",
    "    #print(result)\n",
    "df['genre'] = df['artist_genres'].apply(lambda x: filt_func(x))\n",
    "df['streams'] = df['streams'].apply(lambda x: int(x))"
   ]
  },
  {
   "cell_type": "code",
   "execution_count": 29,
   "metadata": {
    "tags": []
   },
   "outputs": [
    {
     "output_type": "stream",
     "name": "stdout",
     "text": [
      "7MXVkk9YMctZqd1Srtv4MB\n0.679\n"
     ]
    },
    {
     "output_type": "error",
     "ename": "NameError",
     "evalue": "name 'row' is not defined",
     "traceback": [
      "\u001b[1;31m---------------------------------------------------------------------------\u001b[0m",
      "\u001b[1;31mNameError\u001b[0m                                 Traceback (most recent call last)",
      "\u001b[1;32m<ipython-input-29-eb6d55c09b8d>\u001b[0m in \u001b[0;36m<module>\u001b[1;34m\u001b[0m\n\u001b[0;32m      8\u001b[0m \u001b[0mprint\u001b[0m\u001b[1;33m(\u001b[0m\u001b[0mtrack_id\u001b[0m\u001b[1;33m)\u001b[0m\u001b[1;33m\u001b[0m\u001b[1;33m\u001b[0m\u001b[0m\n\u001b[0;32m      9\u001b[0m \u001b[0mprint\u001b[0m\u001b[1;33m(\u001b[0m\u001b[0maudiofeatures\u001b[0m\u001b[1;33m[\u001b[0m\u001b[1;36m0\u001b[0m\u001b[1;33m]\u001b[0m\u001b[1;33m[\u001b[0m\u001b[1;34m'danceability'\u001b[0m\u001b[1;33m]\u001b[0m\u001b[1;33m)\u001b[0m\u001b[1;33m\u001b[0m\u001b[1;33m\u001b[0m\u001b[0m\n\u001b[1;32m---> 10\u001b[1;33m \u001b[0mprint\u001b[0m\u001b[1;33m(\u001b[0m\u001b[0mrow\u001b[0m\u001b[1;33m[\u001b[0m\u001b[1;34m'track_name'\u001b[0m\u001b[1;33m]\u001b[0m\u001b[1;33m)\u001b[0m\u001b[1;33m\u001b[0m\u001b[1;33m\u001b[0m\u001b[0m\n\u001b[0m\u001b[0;32m     11\u001b[0m \u001b[1;33m\u001b[0m\u001b[0m\n",
      "\u001b[1;31mNameError\u001b[0m: name 'row' is not defined"
     ]
    }
   ],
   "source": [
    "audioFeaturesDf = pd.DataFrame(columns=[\"duration_ms\", \"key\", \"mode\", \"time_signature\", \"acousticness\", \"danceability\", \"energy\", \"instrumentalness\", \"liveness\", \"loudness\", \"speechiness\", \"valence\", \"tempo\", \"id\", \"uri\", \"track_href\", \"analysis_url\", \"type\"])\n",
    "#for index, row in df.iterrows():\n",
    "trackName = df.iloc[0].at['track_name']\n",
    "trackNameWithoutSpaces = '+'.join(trackName.split())\n",
    "trackItem = sp.search(trackNameWithoutSpaces, 1, 0)\n",
    "track_id = trackItem['tracks']['items'][0]['id']\n",
    "audiofeatures = sp.audio_features(track_id)\n",
    "print(track_id)\n",
    "print(audiofeatures[0]['danceability'])\n",
    "print(row['track_name'])\n",
    "    "
   ]
  },
  {
   "cell_type": "code",
   "execution_count": 53,
   "metadata": {},
   "outputs": [
    {
     "output_type": "stream",
     "name": "stdout",
     "text": [
      "7MXVkk9YMctZqd1Srtv4MB\n1Xyo4u8uXC1ZmMpatF05PJ\n0.679\nStarboy\n"
     ]
    }
   ],
   "source": [
    "trackName = df.iloc[0].at['track_name']\n",
    "trackNameWithoutSpaces = '+'.join(trackName.split())\n",
    "searchQuery = sp.search(trackNameWithoutSpaces, 1, 0)\n",
    "track_object = searchQuery['tracks']['items'][0]\n",
    "artist_object = track_object['artists'][0]\n",
    "artist_id = artist_object['id']\n",
    "track_id = track_object['id']\n",
    "audiofeatures = sp.audio_features(track_id)\n",
    "print(track_id)\n",
    "print(artist_id)\n",
    "print(audiofeatures[0]['danceability'])\n",
    "print(trackNameWithoutSpaces)"
   ]
  },
  {
   "cell_type": "code",
   "execution_count": 77,
   "metadata": {
    "tags": []
   },
   "outputs": [
    {
     "output_type": "execute_result",
     "data": {
      "text/plain": [
       "      acousticness                                       analysis_url  \\\n",
       "0          0.14100  https://api.spotify.com/v1/audio-analysis/7MXV...   \n",
       "1          0.41400  https://api.spotify.com/v1/audio-analysis/7BKL...   \n",
       "2          0.23500  https://api.spotify.com/v1/audio-analysis/3ibK...   \n",
       "3          0.40600  https://api.spotify.com/v1/audio-analysis/5knu...   \n",
       "4          0.00776  https://api.spotify.com/v1/audio-analysis/1zi7...   \n",
       "...            ...                                                ...   \n",
       "2995       0.23300  https://api.spotify.com/v1/audio-analysis/6eT7...   \n",
       "2996       0.40700  https://api.spotify.com/v1/audio-analysis/1ISs...   \n",
       "2997       0.03800  https://api.spotify.com/v1/audio-analysis/1h2x...   \n",
       "2998       0.07170  https://api.spotify.com/v1/audio-analysis/1NhP...   \n",
       "2999       0.12700  https://api.spotify.com/v1/audio-analysis/4Li2...   \n",
       "\n",
       "      danceability  duration_ms  energy                      id  \\\n",
       "0            0.679     230453.0   0.587  7MXVkk9YMctZqd1Srtv4MB   \n",
       "1            0.748     244960.0   0.524  7BKLCZ1jbUBVqRi2FVlTVw   \n",
       "2            0.656     256733.0   0.578  3ibKnFDaa3GhpPGlOUj7ff   \n",
       "3            0.720     251088.0   0.763  5knuzwU65gJK7IF5yJsuaW   \n",
       "4            0.792     173987.0   0.625  1zi7xx7UVEFkmKfv06H8x0   \n",
       "...            ...          ...     ...                     ...   \n",
       "2995         0.675     256533.0   0.562  6eT7xZZlB2mwyzJ2sUKG6w   \n",
       "2996         0.493     198253.0   0.738  1ISsiC4Fw6f96kZQegLGiJ   \n",
       "2997         0.633     245493.0   0.634  1h2xVEoJORqrg71HocgqXd   \n",
       "2998         0.516     224693.0   0.764  1NhPKVLsHhFUHIOZ32QnS2   \n",
       "2999         0.789     219333.0   0.858  4Li2WHPkuyCdtmokzW2007   \n",
       "\n",
       "      instrumentalness  key  liveness  loudness  mode  speechiness    tempo  \\\n",
       "0             0.000006  7.0    0.1370    -7.015   1.0       0.2760  186.003   \n",
       "1             0.000000  8.0    0.1110    -5.599   1.0       0.0338   95.010   \n",
       "2             0.000000  7.0    0.1180    -8.970   0.0       0.0922   94.514   \n",
       "3             0.000000  9.0    0.1800    -4.068   0.0       0.0523  101.965   \n",
       "4             0.001800  1.0    0.3290    -5.609   1.0       0.0536  103.967   \n",
       "...                ...  ...       ...       ...   ...          ...      ...   \n",
       "2995          0.000000  7.0    0.0816    -7.678   1.0       0.0352  130.098   \n",
       "2996          0.000000  5.0    0.1300    -6.921   1.0       0.2620  176.071   \n",
       "2997          0.006400  8.0    0.0385   -12.115   1.0       0.0725  100.499   \n",
       "2998          0.000000  2.0    0.1150    -6.223   1.0       0.0366  148.021   \n",
       "2999          0.000000  1.0    0.3490    -5.542   1.0       0.3110  140.022   \n",
       "\n",
       "      time_signature                                         track_href  \\\n",
       "0                4.0  https://api.spotify.com/v1/tracks/7MXVkk9YMctZ...   \n",
       "1                4.0  https://api.spotify.com/v1/tracks/7BKLCZ1jbUBV...   \n",
       "2                4.0  https://api.spotify.com/v1/tracks/3ibKnFDaa3Gh...   \n",
       "3                4.0  https://api.spotify.com/v1/tracks/5knuzwU65gJK...   \n",
       "4                4.0  https://api.spotify.com/v1/tracks/1zi7xx7UVEFk...   \n",
       "...              ...                                                ...   \n",
       "2995             4.0  https://api.spotify.com/v1/tracks/6eT7xZZlB2mw...   \n",
       "2996             4.0  https://api.spotify.com/v1/tracks/1ISsiC4Fw6f9...   \n",
       "2997             4.0  https://api.spotify.com/v1/tracks/1h2xVEoJORqr...   \n",
       "2998             4.0  https://api.spotify.com/v1/tracks/1NhPKVLsHhFU...   \n",
       "2999             4.0  https://api.spotify.com/v1/tracks/4Li2WHPkuyCd...   \n",
       "\n",
       "                type                                   uri  valence  \n",
       "0     audio_features  spotify:track:7MXVkk9YMctZqd1Srtv4MB    0.486  \n",
       "1     audio_features  spotify:track:7BKLCZ1jbUBVqRi2FVlTVw    0.661  \n",
       "2     audio_features  spotify:track:3ibKnFDaa3GhpPGlOUj7ff    0.556  \n",
       "3     audio_features  spotify:track:5knuzwU65gJK7IF5yJsuaW    0.742  \n",
       "4     audio_features  spotify:track:1zi7xx7UVEFkmKfv06H8x0    0.370  \n",
       "...              ...                                   ...      ...  \n",
       "2995  audio_features  spotify:track:6eT7xZZlB2mwyzJ2sUKG6w    0.309  \n",
       "2996  audio_features  spotify:track:1ISsiC4Fw6f96kZQegLGiJ    0.219  \n",
       "2997  audio_features  spotify:track:1h2xVEoJORqrg71HocgqXd    0.872  \n",
       "2998  audio_features  spotify:track:1NhPKVLsHhFUHIOZ32QnS2    0.376  \n",
       "2999  audio_features  spotify:track:4Li2WHPkuyCdtmokzW2007    0.775  \n",
       "\n",
       "[3000 rows x 18 columns]"
      ],
      "text/html": "<div>\n<style scoped>\n    .dataframe tbody tr th:only-of-type {\n        vertical-align: middle;\n    }\n\n    .dataframe tbody tr th {\n        vertical-align: top;\n    }\n\n    .dataframe thead th {\n        text-align: right;\n    }\n</style>\n<table border=\"1\" class=\"dataframe\">\n  <thead>\n    <tr style=\"text-align: right;\">\n      <th></th>\n      <th>acousticness</th>\n      <th>analysis_url</th>\n      <th>danceability</th>\n      <th>duration_ms</th>\n      <th>energy</th>\n      <th>id</th>\n      <th>instrumentalness</th>\n      <th>key</th>\n      <th>liveness</th>\n      <th>loudness</th>\n      <th>mode</th>\n      <th>speechiness</th>\n      <th>tempo</th>\n      <th>time_signature</th>\n      <th>track_href</th>\n      <th>type</th>\n      <th>uri</th>\n      <th>valence</th>\n    </tr>\n  </thead>\n  <tbody>\n    <tr>\n      <th>0</th>\n      <td>0.14100</td>\n      <td>https://api.spotify.com/v1/audio-analysis/7MXV...</td>\n      <td>0.679</td>\n      <td>230453.0</td>\n      <td>0.587</td>\n      <td>7MXVkk9YMctZqd1Srtv4MB</td>\n      <td>0.000006</td>\n      <td>7.0</td>\n      <td>0.1370</td>\n      <td>-7.015</td>\n      <td>1.0</td>\n      <td>0.2760</td>\n      <td>186.003</td>\n      <td>4.0</td>\n      <td>https://api.spotify.com/v1/tracks/7MXVkk9YMctZ...</td>\n      <td>audio_features</td>\n      <td>spotify:track:7MXVkk9YMctZqd1Srtv4MB</td>\n      <td>0.486</td>\n    </tr>\n    <tr>\n      <th>1</th>\n      <td>0.41400</td>\n      <td>https://api.spotify.com/v1/audio-analysis/7BKL...</td>\n      <td>0.748</td>\n      <td>244960.0</td>\n      <td>0.524</td>\n      <td>7BKLCZ1jbUBVqRi2FVlTVw</td>\n      <td>0.000000</td>\n      <td>8.0</td>\n      <td>0.1110</td>\n      <td>-5.599</td>\n      <td>1.0</td>\n      <td>0.0338</td>\n      <td>95.010</td>\n      <td>4.0</td>\n      <td>https://api.spotify.com/v1/tracks/7BKLCZ1jbUBV...</td>\n      <td>audio_features</td>\n      <td>spotify:track:7BKLCZ1jbUBVqRi2FVlTVw</td>\n      <td>0.661</td>\n    </tr>\n    <tr>\n      <th>2</th>\n      <td>0.23500</td>\n      <td>https://api.spotify.com/v1/audio-analysis/3ibK...</td>\n      <td>0.656</td>\n      <td>256733.0</td>\n      <td>0.578</td>\n      <td>3ibKnFDaa3GhpPGlOUj7ff</td>\n      <td>0.000000</td>\n      <td>7.0</td>\n      <td>0.1180</td>\n      <td>-8.970</td>\n      <td>0.0</td>\n      <td>0.0922</td>\n      <td>94.514</td>\n      <td>4.0</td>\n      <td>https://api.spotify.com/v1/tracks/3ibKnFDaa3Gh...</td>\n      <td>audio_features</td>\n      <td>spotify:track:3ibKnFDaa3GhpPGlOUj7ff</td>\n      <td>0.556</td>\n    </tr>\n    <tr>\n      <th>3</th>\n      <td>0.40600</td>\n      <td>https://api.spotify.com/v1/audio-analysis/5knu...</td>\n      <td>0.720</td>\n      <td>251088.0</td>\n      <td>0.763</td>\n      <td>5knuzwU65gJK7IF5yJsuaW</td>\n      <td>0.000000</td>\n      <td>9.0</td>\n      <td>0.1800</td>\n      <td>-4.068</td>\n      <td>0.0</td>\n      <td>0.0523</td>\n      <td>101.965</td>\n      <td>4.0</td>\n      <td>https://api.spotify.com/v1/tracks/5knuzwU65gJK...</td>\n      <td>audio_features</td>\n      <td>spotify:track:5knuzwU65gJK7IF5yJsuaW</td>\n      <td>0.742</td>\n    </tr>\n    <tr>\n      <th>4</th>\n      <td>0.00776</td>\n      <td>https://api.spotify.com/v1/audio-analysis/1zi7...</td>\n      <td>0.792</td>\n      <td>173987.0</td>\n      <td>0.625</td>\n      <td>1zi7xx7UVEFkmKfv06H8x0</td>\n      <td>0.001800</td>\n      <td>1.0</td>\n      <td>0.3290</td>\n      <td>-5.609</td>\n      <td>1.0</td>\n      <td>0.0536</td>\n      <td>103.967</td>\n      <td>4.0</td>\n      <td>https://api.spotify.com/v1/tracks/1zi7xx7UVEFk...</td>\n      <td>audio_features</td>\n      <td>spotify:track:1zi7xx7UVEFkmKfv06H8x0</td>\n      <td>0.370</td>\n    </tr>\n    <tr>\n      <th>...</th>\n      <td>...</td>\n      <td>...</td>\n      <td>...</td>\n      <td>...</td>\n      <td>...</td>\n      <td>...</td>\n      <td>...</td>\n      <td>...</td>\n      <td>...</td>\n      <td>...</td>\n      <td>...</td>\n      <td>...</td>\n      <td>...</td>\n      <td>...</td>\n      <td>...</td>\n      <td>...</td>\n      <td>...</td>\n      <td>...</td>\n    </tr>\n    <tr>\n      <th>2995</th>\n      <td>0.23300</td>\n      <td>https://api.spotify.com/v1/audio-analysis/6eT7...</td>\n      <td>0.675</td>\n      <td>256533.0</td>\n      <td>0.562</td>\n      <td>6eT7xZZlB2mwyzJ2sUKG6w</td>\n      <td>0.000000</td>\n      <td>7.0</td>\n      <td>0.0816</td>\n      <td>-7.678</td>\n      <td>1.0</td>\n      <td>0.0352</td>\n      <td>130.098</td>\n      <td>4.0</td>\n      <td>https://api.spotify.com/v1/tracks/6eT7xZZlB2mw...</td>\n      <td>audio_features</td>\n      <td>spotify:track:6eT7xZZlB2mwyzJ2sUKG6w</td>\n      <td>0.309</td>\n    </tr>\n    <tr>\n      <th>2996</th>\n      <td>0.40700</td>\n      <td>https://api.spotify.com/v1/audio-analysis/1ISs...</td>\n      <td>0.493</td>\n      <td>198253.0</td>\n      <td>0.738</td>\n      <td>1ISsiC4Fw6f96kZQegLGiJ</td>\n      <td>0.000000</td>\n      <td>5.0</td>\n      <td>0.1300</td>\n      <td>-6.921</td>\n      <td>1.0</td>\n      <td>0.2620</td>\n      <td>176.071</td>\n      <td>4.0</td>\n      <td>https://api.spotify.com/v1/tracks/1ISsiC4Fw6f9...</td>\n      <td>audio_features</td>\n      <td>spotify:track:1ISsiC4Fw6f96kZQegLGiJ</td>\n      <td>0.219</td>\n    </tr>\n    <tr>\n      <th>2997</th>\n      <td>0.03800</td>\n      <td>https://api.spotify.com/v1/audio-analysis/1h2x...</td>\n      <td>0.633</td>\n      <td>245493.0</td>\n      <td>0.634</td>\n      <td>1h2xVEoJORqrg71HocgqXd</td>\n      <td>0.006400</td>\n      <td>8.0</td>\n      <td>0.0385</td>\n      <td>-12.115</td>\n      <td>1.0</td>\n      <td>0.0725</td>\n      <td>100.499</td>\n      <td>4.0</td>\n      <td>https://api.spotify.com/v1/tracks/1h2xVEoJORqr...</td>\n      <td>audio_features</td>\n      <td>spotify:track:1h2xVEoJORqrg71HocgqXd</td>\n      <td>0.872</td>\n    </tr>\n    <tr>\n      <th>2998</th>\n      <td>0.07170</td>\n      <td>https://api.spotify.com/v1/audio-analysis/1NhP...</td>\n      <td>0.516</td>\n      <td>224693.0</td>\n      <td>0.764</td>\n      <td>1NhPKVLsHhFUHIOZ32QnS2</td>\n      <td>0.000000</td>\n      <td>2.0</td>\n      <td>0.1150</td>\n      <td>-6.223</td>\n      <td>1.0</td>\n      <td>0.0366</td>\n      <td>148.021</td>\n      <td>4.0</td>\n      <td>https://api.spotify.com/v1/tracks/1NhPKVLsHhFU...</td>\n      <td>audio_features</td>\n      <td>spotify:track:1NhPKVLsHhFUHIOZ32QnS2</td>\n      <td>0.376</td>\n    </tr>\n    <tr>\n      <th>2999</th>\n      <td>0.12700</td>\n      <td>https://api.spotify.com/v1/audio-analysis/4Li2...</td>\n      <td>0.789</td>\n      <td>219333.0</td>\n      <td>0.858</td>\n      <td>4Li2WHPkuyCdtmokzW2007</td>\n      <td>0.000000</td>\n      <td>1.0</td>\n      <td>0.3490</td>\n      <td>-5.542</td>\n      <td>1.0</td>\n      <td>0.3110</td>\n      <td>140.022</td>\n      <td>4.0</td>\n      <td>https://api.spotify.com/v1/tracks/4Li2WHPkuyCd...</td>\n      <td>audio_features</td>\n      <td>spotify:track:4Li2WHPkuyCdtmokzW2007</td>\n      <td>0.775</td>\n    </tr>\n  </tbody>\n</table>\n<p>3000 rows × 18 columns</p>\n</div>"
     },
     "metadata": {},
     "execution_count": 77
    }
   ],
   "source": [
    "artist_id_list = []\n",
    "track_id_list = []\n",
    "audioFeaturesDf = pd.DataFrame()\n",
    "# This gets the artist id and the track id (which is included in the \"audio_features\" search we make)\n",
    "# Does this by making one search through the api and gets the ids from the information returned\n",
    "for index, row in df.iterrows():\n",
    "    trackName = df.iloc[index - 1].at['track_name']\n",
    "    trackNameWithoutSpaces = '+'.join(trackName.split())\n",
    "    searchQuery = sp.search(trackNameWithoutSpaces, 1, 0)\n",
    "    track_id = \"\"\n",
    "    artist_id = \"\"\n",
    "    if (len(searchQuery['tracks']['items']) != 0):\n",
    "        track_object = searchQuery['tracks']['items'][0]\n",
    "        artist_object = track_object['artists'][0] if type(track_object['artists']) is list else track_object['artists']\n",
    "        artist_id = artist_object['id']\n",
    "        track_id = track_object['id']\n",
    "        artist_id_list.append(artist_id)\n",
    "        track_id_list.append(track_id)\n",
    "    #print(trackItem)\n",
    "    else:\n",
    "        # If our query returned nothing then append a nan in the place of artist and track for this entry\n",
    "        artist_id_list.append(np.nan)\n",
    "        track_id_list.append(np.nan)\n",
    "    audiofeatures = {'duration_ms' : np.nan, 'key' : np.nan, 'mode' : np.nan, 'time_signature' : np.nan, 'acousticness' : np.nan, 'danceability' : np.nan, 'energy' : np.nan, 'instrumentalness' : np.nan, 'liveness' : np.nan, 'loudness' : np.nan, 'speechiness' : np.nan, 'valence' : np.nan, 'tempo' : np.nan, 'id' : np.nan, 'uri' : np.nan, 'track_href' : np.nan, 'analysis_url' : np.nan, 'type' : np.nan, }\n",
    "    #print(audiofeatures)\n",
    "    # If we successfully found a track when we did our seach, then get the audio features for that\n",
    "    if (track_id != \"\"):\n",
    "        audiofeatures = sp.audio_features(track_id)[0]\n",
    "    #print(track_id)\n",
    "    #print(audiofeatures)\n",
    "    audioFeaturesDf = audioFeaturesDf.append(audiofeatures, ignore_index=True)\n",
    "    \n",
    "audioFeaturesDf"
   ]
  },
  {
   "cell_type": "code",
   "execution_count": 78,
   "metadata": {},
   "outputs": [
    {
     "output_type": "execute_result",
     "data": {
      "text/plain": [
       "      acousticness                                       analysis_url  \\\n",
       "0          0.14100  https://api.spotify.com/v1/audio-analysis/7MXV...   \n",
       "1          0.41400  https://api.spotify.com/v1/audio-analysis/7BKL...   \n",
       "2          0.23500  https://api.spotify.com/v1/audio-analysis/3ibK...   \n",
       "3          0.40600  https://api.spotify.com/v1/audio-analysis/5knu...   \n",
       "4          0.00776  https://api.spotify.com/v1/audio-analysis/1zi7...   \n",
       "...            ...                                                ...   \n",
       "2995       0.23300  https://api.spotify.com/v1/audio-analysis/6eT7...   \n",
       "2996       0.40700  https://api.spotify.com/v1/audio-analysis/1ISs...   \n",
       "2997       0.03800  https://api.spotify.com/v1/audio-analysis/1h2x...   \n",
       "2998       0.07170  https://api.spotify.com/v1/audio-analysis/1NhP...   \n",
       "2999       0.12700  https://api.spotify.com/v1/audio-analysis/4Li2...   \n",
       "\n",
       "      danceability  duration_ms  energy                      id  \\\n",
       "0            0.679     230453.0   0.587  7MXVkk9YMctZqd1Srtv4MB   \n",
       "1            0.748     244960.0   0.524  7BKLCZ1jbUBVqRi2FVlTVw   \n",
       "2            0.656     256733.0   0.578  3ibKnFDaa3GhpPGlOUj7ff   \n",
       "3            0.720     251088.0   0.763  5knuzwU65gJK7IF5yJsuaW   \n",
       "4            0.792     173987.0   0.625  1zi7xx7UVEFkmKfv06H8x0   \n",
       "...            ...          ...     ...                     ...   \n",
       "2995         0.675     256533.0   0.562  6eT7xZZlB2mwyzJ2sUKG6w   \n",
       "2996         0.493     198253.0   0.738  1ISsiC4Fw6f96kZQegLGiJ   \n",
       "2997         0.633     245493.0   0.634  1h2xVEoJORqrg71HocgqXd   \n",
       "2998         0.516     224693.0   0.764  1NhPKVLsHhFUHIOZ32QnS2   \n",
       "2999         0.789     219333.0   0.858  4Li2WHPkuyCdtmokzW2007   \n",
       "\n",
       "      instrumentalness  key  liveness  loudness  mode  speechiness    tempo  \\\n",
       "0             0.000006  7.0    0.1370    -7.015   1.0       0.2760  186.003   \n",
       "1             0.000000  8.0    0.1110    -5.599   1.0       0.0338   95.010   \n",
       "2             0.000000  7.0    0.1180    -8.970   0.0       0.0922   94.514   \n",
       "3             0.000000  9.0    0.1800    -4.068   0.0       0.0523  101.965   \n",
       "4             0.001800  1.0    0.3290    -5.609   1.0       0.0536  103.967   \n",
       "...                ...  ...       ...       ...   ...          ...      ...   \n",
       "2995          0.000000  7.0    0.0816    -7.678   1.0       0.0352  130.098   \n",
       "2996          0.000000  5.0    0.1300    -6.921   1.0       0.2620  176.071   \n",
       "2997          0.006400  8.0    0.0385   -12.115   1.0       0.0725  100.499   \n",
       "2998          0.000000  2.0    0.1150    -6.223   1.0       0.0366  148.021   \n",
       "2999          0.000000  1.0    0.3490    -5.542   1.0       0.3110  140.022   \n",
       "\n",
       "      time_signature                                         track_href  \\\n",
       "0                4.0  https://api.spotify.com/v1/tracks/7MXVkk9YMctZ...   \n",
       "1                4.0  https://api.spotify.com/v1/tracks/7BKLCZ1jbUBV...   \n",
       "2                4.0  https://api.spotify.com/v1/tracks/3ibKnFDaa3Gh...   \n",
       "3                4.0  https://api.spotify.com/v1/tracks/5knuzwU65gJK...   \n",
       "4                4.0  https://api.spotify.com/v1/tracks/1zi7xx7UVEFk...   \n",
       "...              ...                                                ...   \n",
       "2995             4.0  https://api.spotify.com/v1/tracks/6eT7xZZlB2mw...   \n",
       "2996             4.0  https://api.spotify.com/v1/tracks/1ISsiC4Fw6f9...   \n",
       "2997             4.0  https://api.spotify.com/v1/tracks/1h2xVEoJORqr...   \n",
       "2998             4.0  https://api.spotify.com/v1/tracks/1NhPKVLsHhFU...   \n",
       "2999             4.0  https://api.spotify.com/v1/tracks/4Li2WHPkuyCd...   \n",
       "\n",
       "                type                                   uri  valence  \\\n",
       "0     audio_features  spotify:track:7MXVkk9YMctZqd1Srtv4MB    0.486   \n",
       "1     audio_features  spotify:track:7BKLCZ1jbUBVqRi2FVlTVw    0.661   \n",
       "2     audio_features  spotify:track:3ibKnFDaa3GhpPGlOUj7ff    0.556   \n",
       "3     audio_features  spotify:track:5knuzwU65gJK7IF5yJsuaW    0.742   \n",
       "4     audio_features  spotify:track:1zi7xx7UVEFkmKfv06H8x0    0.370   \n",
       "...              ...                                   ...      ...   \n",
       "2995  audio_features  spotify:track:6eT7xZZlB2mwyzJ2sUKG6w    0.309   \n",
       "2996  audio_features  spotify:track:1ISsiC4Fw6f96kZQegLGiJ    0.219   \n",
       "2997  audio_features  spotify:track:1h2xVEoJORqrg71HocgqXd    0.872   \n",
       "2998  audio_features  spotify:track:1NhPKVLsHhFUHIOZ32QnS2    0.376   \n",
       "2999  audio_features  spotify:track:4Li2WHPkuyCdtmokzW2007    0.775   \n",
       "\n",
       "                   artist_id  \n",
       "0     1Xyo4u8uXC1ZmMpatF05PJ  \n",
       "1     69GGBxA162lTqCwzJG5jLp  \n",
       "2     20s0P9QLxGqKuCsGwFsp7w  \n",
       "3     6MDME20pz9RveH9rEXvrOM  \n",
       "4     3TVXtAsR1Inumwj472S9r4  \n",
       "...                      ...  \n",
       "2995  246dkjvS1zLTtiykXe5h60  \n",
       "2996  6fOMl44jA4Sp5b9PpYCkzz  \n",
       "2997  7guDJrEfX3qb6FEbdPA5qi  \n",
       "2998  5Pwc4xIPtQLFEnJriah9YJ  \n",
       "2999  3nFkdlSjzX9mRTtwJOzDYB  \n",
       "\n",
       "[3000 rows x 19 columns]"
      ],
      "text/html": "<div>\n<style scoped>\n    .dataframe tbody tr th:only-of-type {\n        vertical-align: middle;\n    }\n\n    .dataframe tbody tr th {\n        vertical-align: top;\n    }\n\n    .dataframe thead th {\n        text-align: right;\n    }\n</style>\n<table border=\"1\" class=\"dataframe\">\n  <thead>\n    <tr style=\"text-align: right;\">\n      <th></th>\n      <th>acousticness</th>\n      <th>analysis_url</th>\n      <th>danceability</th>\n      <th>duration_ms</th>\n      <th>energy</th>\n      <th>id</th>\n      <th>instrumentalness</th>\n      <th>key</th>\n      <th>liveness</th>\n      <th>loudness</th>\n      <th>mode</th>\n      <th>speechiness</th>\n      <th>tempo</th>\n      <th>time_signature</th>\n      <th>track_href</th>\n      <th>type</th>\n      <th>uri</th>\n      <th>valence</th>\n      <th>artist_id</th>\n    </tr>\n  </thead>\n  <tbody>\n    <tr>\n      <th>0</th>\n      <td>0.14100</td>\n      <td>https://api.spotify.com/v1/audio-analysis/7MXV...</td>\n      <td>0.679</td>\n      <td>230453.0</td>\n      <td>0.587</td>\n      <td>7MXVkk9YMctZqd1Srtv4MB</td>\n      <td>0.000006</td>\n      <td>7.0</td>\n      <td>0.1370</td>\n      <td>-7.015</td>\n      <td>1.0</td>\n      <td>0.2760</td>\n      <td>186.003</td>\n      <td>4.0</td>\n      <td>https://api.spotify.com/v1/tracks/7MXVkk9YMctZ...</td>\n      <td>audio_features</td>\n      <td>spotify:track:7MXVkk9YMctZqd1Srtv4MB</td>\n      <td>0.486</td>\n      <td>1Xyo4u8uXC1ZmMpatF05PJ</td>\n    </tr>\n    <tr>\n      <th>1</th>\n      <td>0.41400</td>\n      <td>https://api.spotify.com/v1/audio-analysis/7BKL...</td>\n      <td>0.748</td>\n      <td>244960.0</td>\n      <td>0.524</td>\n      <td>7BKLCZ1jbUBVqRi2FVlTVw</td>\n      <td>0.000000</td>\n      <td>8.0</td>\n      <td>0.1110</td>\n      <td>-5.599</td>\n      <td>1.0</td>\n      <td>0.0338</td>\n      <td>95.010</td>\n      <td>4.0</td>\n      <td>https://api.spotify.com/v1/tracks/7BKLCZ1jbUBV...</td>\n      <td>audio_features</td>\n      <td>spotify:track:7BKLCZ1jbUBVqRi2FVlTVw</td>\n      <td>0.661</td>\n      <td>69GGBxA162lTqCwzJG5jLp</td>\n    </tr>\n    <tr>\n      <th>2</th>\n      <td>0.23500</td>\n      <td>https://api.spotify.com/v1/audio-analysis/3ibK...</td>\n      <td>0.656</td>\n      <td>256733.0</td>\n      <td>0.578</td>\n      <td>3ibKnFDaa3GhpPGlOUj7ff</td>\n      <td>0.000000</td>\n      <td>7.0</td>\n      <td>0.1180</td>\n      <td>-8.970</td>\n      <td>0.0</td>\n      <td>0.0922</td>\n      <td>94.514</td>\n      <td>4.0</td>\n      <td>https://api.spotify.com/v1/tracks/3ibKnFDaa3Gh...</td>\n      <td>audio_features</td>\n      <td>spotify:track:3ibKnFDaa3GhpPGlOUj7ff</td>\n      <td>0.556</td>\n      <td>20s0P9QLxGqKuCsGwFsp7w</td>\n    </tr>\n    <tr>\n      <th>3</th>\n      <td>0.40600</td>\n      <td>https://api.spotify.com/v1/audio-analysis/5knu...</td>\n      <td>0.720</td>\n      <td>251088.0</td>\n      <td>0.763</td>\n      <td>5knuzwU65gJK7IF5yJsuaW</td>\n      <td>0.000000</td>\n      <td>9.0</td>\n      <td>0.1800</td>\n      <td>-4.068</td>\n      <td>0.0</td>\n      <td>0.0523</td>\n      <td>101.965</td>\n      <td>4.0</td>\n      <td>https://api.spotify.com/v1/tracks/5knuzwU65gJK...</td>\n      <td>audio_features</td>\n      <td>spotify:track:5knuzwU65gJK7IF5yJsuaW</td>\n      <td>0.742</td>\n      <td>6MDME20pz9RveH9rEXvrOM</td>\n    </tr>\n    <tr>\n      <th>4</th>\n      <td>0.00776</td>\n      <td>https://api.spotify.com/v1/audio-analysis/1zi7...</td>\n      <td>0.792</td>\n      <td>173987.0</td>\n      <td>0.625</td>\n      <td>1zi7xx7UVEFkmKfv06H8x0</td>\n      <td>0.001800</td>\n      <td>1.0</td>\n      <td>0.3290</td>\n      <td>-5.609</td>\n      <td>1.0</td>\n      <td>0.0536</td>\n      <td>103.967</td>\n      <td>4.0</td>\n      <td>https://api.spotify.com/v1/tracks/1zi7xx7UVEFk...</td>\n      <td>audio_features</td>\n      <td>spotify:track:1zi7xx7UVEFkmKfv06H8x0</td>\n      <td>0.370</td>\n      <td>3TVXtAsR1Inumwj472S9r4</td>\n    </tr>\n    <tr>\n      <th>...</th>\n      <td>...</td>\n      <td>...</td>\n      <td>...</td>\n      <td>...</td>\n      <td>...</td>\n      <td>...</td>\n      <td>...</td>\n      <td>...</td>\n      <td>...</td>\n      <td>...</td>\n      <td>...</td>\n      <td>...</td>\n      <td>...</td>\n      <td>...</td>\n      <td>...</td>\n      <td>...</td>\n      <td>...</td>\n      <td>...</td>\n      <td>...</td>\n    </tr>\n    <tr>\n      <th>2995</th>\n      <td>0.23300</td>\n      <td>https://api.spotify.com/v1/audio-analysis/6eT7...</td>\n      <td>0.675</td>\n      <td>256533.0</td>\n      <td>0.562</td>\n      <td>6eT7xZZlB2mwyzJ2sUKG6w</td>\n      <td>0.000000</td>\n      <td>7.0</td>\n      <td>0.0816</td>\n      <td>-7.678</td>\n      <td>1.0</td>\n      <td>0.0352</td>\n      <td>130.098</td>\n      <td>4.0</td>\n      <td>https://api.spotify.com/v1/tracks/6eT7xZZlB2mw...</td>\n      <td>audio_features</td>\n      <td>spotify:track:6eT7xZZlB2mwyzJ2sUKG6w</td>\n      <td>0.309</td>\n      <td>246dkjvS1zLTtiykXe5h60</td>\n    </tr>\n    <tr>\n      <th>2996</th>\n      <td>0.40700</td>\n      <td>https://api.spotify.com/v1/audio-analysis/1ISs...</td>\n      <td>0.493</td>\n      <td>198253.0</td>\n      <td>0.738</td>\n      <td>1ISsiC4Fw6f96kZQegLGiJ</td>\n      <td>0.000000</td>\n      <td>5.0</td>\n      <td>0.1300</td>\n      <td>-6.921</td>\n      <td>1.0</td>\n      <td>0.2620</td>\n      <td>176.071</td>\n      <td>4.0</td>\n      <td>https://api.spotify.com/v1/tracks/1ISsiC4Fw6f9...</td>\n      <td>audio_features</td>\n      <td>spotify:track:1ISsiC4Fw6f96kZQegLGiJ</td>\n      <td>0.219</td>\n      <td>6fOMl44jA4Sp5b9PpYCkzz</td>\n    </tr>\n    <tr>\n      <th>2997</th>\n      <td>0.03800</td>\n      <td>https://api.spotify.com/v1/audio-analysis/1h2x...</td>\n      <td>0.633</td>\n      <td>245493.0</td>\n      <td>0.634</td>\n      <td>1h2xVEoJORqrg71HocgqXd</td>\n      <td>0.006400</td>\n      <td>8.0</td>\n      <td>0.0385</td>\n      <td>-12.115</td>\n      <td>1.0</td>\n      <td>0.0725</td>\n      <td>100.499</td>\n      <td>4.0</td>\n      <td>https://api.spotify.com/v1/tracks/1h2xVEoJORqr...</td>\n      <td>audio_features</td>\n      <td>spotify:track:1h2xVEoJORqrg71HocgqXd</td>\n      <td>0.872</td>\n      <td>7guDJrEfX3qb6FEbdPA5qi</td>\n    </tr>\n    <tr>\n      <th>2998</th>\n      <td>0.07170</td>\n      <td>https://api.spotify.com/v1/audio-analysis/1NhP...</td>\n      <td>0.516</td>\n      <td>224693.0</td>\n      <td>0.764</td>\n      <td>1NhPKVLsHhFUHIOZ32QnS2</td>\n      <td>0.000000</td>\n      <td>2.0</td>\n      <td>0.1150</td>\n      <td>-6.223</td>\n      <td>1.0</td>\n      <td>0.0366</td>\n      <td>148.021</td>\n      <td>4.0</td>\n      <td>https://api.spotify.com/v1/tracks/1NhPKVLsHhFU...</td>\n      <td>audio_features</td>\n      <td>spotify:track:1NhPKVLsHhFUHIOZ32QnS2</td>\n      <td>0.376</td>\n      <td>5Pwc4xIPtQLFEnJriah9YJ</td>\n    </tr>\n    <tr>\n      <th>2999</th>\n      <td>0.12700</td>\n      <td>https://api.spotify.com/v1/audio-analysis/4Li2...</td>\n      <td>0.789</td>\n      <td>219333.0</td>\n      <td>0.858</td>\n      <td>4Li2WHPkuyCdtmokzW2007</td>\n      <td>0.000000</td>\n      <td>1.0</td>\n      <td>0.3490</td>\n      <td>-5.542</td>\n      <td>1.0</td>\n      <td>0.3110</td>\n      <td>140.022</td>\n      <td>4.0</td>\n      <td>https://api.spotify.com/v1/tracks/4Li2WHPkuyCd...</td>\n      <td>audio_features</td>\n      <td>spotify:track:4Li2WHPkuyCdtmokzW2007</td>\n      <td>0.775</td>\n      <td>3nFkdlSjzX9mRTtwJOzDYB</td>\n    </tr>\n  </tbody>\n</table>\n<p>3000 rows × 19 columns</p>\n</div>"
     },
     "metadata": {},
     "execution_count": 78
    }
   ],
   "source": [
    "audioFeaturesDf['artist_id'] = artist_id_list\n",
    "audioFeaturesDf"
   ]
  },
  {
   "cell_type": "code",
   "execution_count": 79,
   "metadata": {},
   "outputs": [
    {
     "output_type": "execute_result",
     "data": {
      "text/plain": [
       "                                  track_name            artist  streams  \\\n",
       "1                                    Starboy        The Weeknd  3135625   \n",
       "2                                     Closer  The Chainsmokers  3015525   \n",
       "3                            Let Me Love You          DJ Snake  2545384   \n",
       "4    Rockabye (feat. Sean Paul & Anne-Marie)      Clean Bandit  2356604   \n",
       "5                                  One Dance             Drake  2259887   \n",
       "..                                       ...               ...      ...   \n",
       "196                                 You & Me     Marc E. Bassy   348357   \n",
       "197                       Can't Feel My Face        The Weeknd   347804   \n",
       "198                            White Iverson       Post Malone   342787   \n",
       "199                          Te Quiero Pa´Mi          Don Omar   342480   \n",
       "200                       When We Were Young             Adele   338261   \n",
       "\n",
       "                                                   url        date  \\\n",
       "1    https://open.spotify.com/track/5aAx2yezTd8zXrk...  2017-01-01   \n",
       "2    https://open.spotify.com/track/7BKLCZ1jbUBVqRi...  2017-01-01   \n",
       "3    https://open.spotify.com/track/4pdPtRcBmOSQDlJ...  2017-01-01   \n",
       "4    https://open.spotify.com/track/5knuzwU65gJK7IF...  2017-01-01   \n",
       "5    https://open.spotify.com/track/1xznGGDReH1oQq0...  2017-01-01   \n",
       "..                                                 ...         ...   \n",
       "196  https://open.spotify.com/track/4QdovcM8j50QPly...  2017-01-15   \n",
       "197  https://open.spotify.com/track/6RsWqX8zABZLhZy...  2017-01-15   \n",
       "198  https://open.spotify.com/track/6eT7xZZlB2mwyzJ...  2017-01-15   \n",
       "199  https://open.spotify.com/track/3BY2mafsbsoKGqS...  2017-01-15   \n",
       "200  https://open.spotify.com/track/7IWkJwX9C0J7tHu...  2017-01-15   \n",
       "\n",
       "     duration_ms  acousticness  danceability  energy  instrumentalness  \\\n",
       "1       244960.0       0.41400         0.748   0.524          0.000000   \n",
       "2       256733.0       0.23500         0.656   0.578          0.000000   \n",
       "3       251088.0       0.40600         0.720   0.763          0.000000   \n",
       "4       173987.0       0.00776         0.792   0.625          0.001800   \n",
       "5       210937.0       0.10500         0.928   0.481          0.000000   \n",
       "..           ...           ...           ...     ...               ...   \n",
       "196     198253.0       0.40700         0.493   0.738          0.000000   \n",
       "197     245493.0       0.03800         0.633   0.634          0.006400   \n",
       "198     224693.0       0.07170         0.516   0.764          0.000000   \n",
       "199     219333.0       0.12700         0.789   0.858          0.000000   \n",
       "200     230453.0       0.14100         0.679   0.587          0.000006   \n",
       "\n",
       "     liveness  loudness  speechiness  valence    tempo  \n",
       "1      0.1110    -5.599       0.0338    0.661   95.010  \n",
       "2      0.1180    -8.970       0.0922    0.556   94.514  \n",
       "3      0.1800    -4.068       0.0523    0.742  101.965  \n",
       "4      0.3290    -5.609       0.0536    0.370  103.967  \n",
       "5      0.1760    -9.350       0.2870    0.613  134.007  \n",
       "..        ...       ...          ...      ...      ...  \n",
       "196    0.1300    -6.921       0.2620    0.219  176.071  \n",
       "197    0.0385   -12.115       0.0725    0.872  100.499  \n",
       "198    0.1150    -6.223       0.0366    0.376  148.021  \n",
       "199    0.3490    -5.542       0.3110    0.775  140.022  \n",
       "200    0.1370    -7.015       0.2760    0.486  186.003  \n",
       "\n",
       "[3000 rows x 15 columns]"
      ],
      "text/html": "<div>\n<style scoped>\n    .dataframe tbody tr th:only-of-type {\n        vertical-align: middle;\n    }\n\n    .dataframe tbody tr th {\n        vertical-align: top;\n    }\n\n    .dataframe thead th {\n        text-align: right;\n    }\n</style>\n<table border=\"1\" class=\"dataframe\">\n  <thead>\n    <tr style=\"text-align: right;\">\n      <th></th>\n      <th>track_name</th>\n      <th>artist</th>\n      <th>streams</th>\n      <th>url</th>\n      <th>date</th>\n      <th>duration_ms</th>\n      <th>acousticness</th>\n      <th>danceability</th>\n      <th>energy</th>\n      <th>instrumentalness</th>\n      <th>liveness</th>\n      <th>loudness</th>\n      <th>speechiness</th>\n      <th>valence</th>\n      <th>tempo</th>\n    </tr>\n  </thead>\n  <tbody>\n    <tr>\n      <th>1</th>\n      <td>Starboy</td>\n      <td>The Weeknd</td>\n      <td>3135625</td>\n      <td>https://open.spotify.com/track/5aAx2yezTd8zXrk...</td>\n      <td>2017-01-01</td>\n      <td>244960.0</td>\n      <td>0.41400</td>\n      <td>0.748</td>\n      <td>0.524</td>\n      <td>0.000000</td>\n      <td>0.1110</td>\n      <td>-5.599</td>\n      <td>0.0338</td>\n      <td>0.661</td>\n      <td>95.010</td>\n    </tr>\n    <tr>\n      <th>2</th>\n      <td>Closer</td>\n      <td>The Chainsmokers</td>\n      <td>3015525</td>\n      <td>https://open.spotify.com/track/7BKLCZ1jbUBVqRi...</td>\n      <td>2017-01-01</td>\n      <td>256733.0</td>\n      <td>0.23500</td>\n      <td>0.656</td>\n      <td>0.578</td>\n      <td>0.000000</td>\n      <td>0.1180</td>\n      <td>-8.970</td>\n      <td>0.0922</td>\n      <td>0.556</td>\n      <td>94.514</td>\n    </tr>\n    <tr>\n      <th>3</th>\n      <td>Let Me Love You</td>\n      <td>DJ Snake</td>\n      <td>2545384</td>\n      <td>https://open.spotify.com/track/4pdPtRcBmOSQDlJ...</td>\n      <td>2017-01-01</td>\n      <td>251088.0</td>\n      <td>0.40600</td>\n      <td>0.720</td>\n      <td>0.763</td>\n      <td>0.000000</td>\n      <td>0.1800</td>\n      <td>-4.068</td>\n      <td>0.0523</td>\n      <td>0.742</td>\n      <td>101.965</td>\n    </tr>\n    <tr>\n      <th>4</th>\n      <td>Rockabye (feat. Sean Paul &amp; Anne-Marie)</td>\n      <td>Clean Bandit</td>\n      <td>2356604</td>\n      <td>https://open.spotify.com/track/5knuzwU65gJK7IF...</td>\n      <td>2017-01-01</td>\n      <td>173987.0</td>\n      <td>0.00776</td>\n      <td>0.792</td>\n      <td>0.625</td>\n      <td>0.001800</td>\n      <td>0.3290</td>\n      <td>-5.609</td>\n      <td>0.0536</td>\n      <td>0.370</td>\n      <td>103.967</td>\n    </tr>\n    <tr>\n      <th>5</th>\n      <td>One Dance</td>\n      <td>Drake</td>\n      <td>2259887</td>\n      <td>https://open.spotify.com/track/1xznGGDReH1oQq0...</td>\n      <td>2017-01-01</td>\n      <td>210937.0</td>\n      <td>0.10500</td>\n      <td>0.928</td>\n      <td>0.481</td>\n      <td>0.000000</td>\n      <td>0.1760</td>\n      <td>-9.350</td>\n      <td>0.2870</td>\n      <td>0.613</td>\n      <td>134.007</td>\n    </tr>\n    <tr>\n      <th>...</th>\n      <td>...</td>\n      <td>...</td>\n      <td>...</td>\n      <td>...</td>\n      <td>...</td>\n      <td>...</td>\n      <td>...</td>\n      <td>...</td>\n      <td>...</td>\n      <td>...</td>\n      <td>...</td>\n      <td>...</td>\n      <td>...</td>\n      <td>...</td>\n      <td>...</td>\n    </tr>\n    <tr>\n      <th>196</th>\n      <td>You &amp; Me</td>\n      <td>Marc E. Bassy</td>\n      <td>348357</td>\n      <td>https://open.spotify.com/track/4QdovcM8j50QPly...</td>\n      <td>2017-01-15</td>\n      <td>198253.0</td>\n      <td>0.40700</td>\n      <td>0.493</td>\n      <td>0.738</td>\n      <td>0.000000</td>\n      <td>0.1300</td>\n      <td>-6.921</td>\n      <td>0.2620</td>\n      <td>0.219</td>\n      <td>176.071</td>\n    </tr>\n    <tr>\n      <th>197</th>\n      <td>Can't Feel My Face</td>\n      <td>The Weeknd</td>\n      <td>347804</td>\n      <td>https://open.spotify.com/track/6RsWqX8zABZLhZy...</td>\n      <td>2017-01-15</td>\n      <td>245493.0</td>\n      <td>0.03800</td>\n      <td>0.633</td>\n      <td>0.634</td>\n      <td>0.006400</td>\n      <td>0.0385</td>\n      <td>-12.115</td>\n      <td>0.0725</td>\n      <td>0.872</td>\n      <td>100.499</td>\n    </tr>\n    <tr>\n      <th>198</th>\n      <td>White Iverson</td>\n      <td>Post Malone</td>\n      <td>342787</td>\n      <td>https://open.spotify.com/track/6eT7xZZlB2mwyzJ...</td>\n      <td>2017-01-15</td>\n      <td>224693.0</td>\n      <td>0.07170</td>\n      <td>0.516</td>\n      <td>0.764</td>\n      <td>0.000000</td>\n      <td>0.1150</td>\n      <td>-6.223</td>\n      <td>0.0366</td>\n      <td>0.376</td>\n      <td>148.021</td>\n    </tr>\n    <tr>\n      <th>199</th>\n      <td>Te Quiero Pa´Mi</td>\n      <td>Don Omar</td>\n      <td>342480</td>\n      <td>https://open.spotify.com/track/3BY2mafsbsoKGqS...</td>\n      <td>2017-01-15</td>\n      <td>219333.0</td>\n      <td>0.12700</td>\n      <td>0.789</td>\n      <td>0.858</td>\n      <td>0.000000</td>\n      <td>0.3490</td>\n      <td>-5.542</td>\n      <td>0.3110</td>\n      <td>0.775</td>\n      <td>140.022</td>\n    </tr>\n    <tr>\n      <th>200</th>\n      <td>When We Were Young</td>\n      <td>Adele</td>\n      <td>338261</td>\n      <td>https://open.spotify.com/track/7IWkJwX9C0J7tHu...</td>\n      <td>2017-01-15</td>\n      <td>230453.0</td>\n      <td>0.14100</td>\n      <td>0.679</td>\n      <td>0.587</td>\n      <td>0.000006</td>\n      <td>0.1370</td>\n      <td>-7.015</td>\n      <td>0.2760</td>\n      <td>0.486</td>\n      <td>186.003</td>\n    </tr>\n  </tbody>\n</table>\n<p>3000 rows × 15 columns</p>\n</div>"
     },
     "metadata": {},
     "execution_count": 79
    }
   ],
   "source": [
    "audioFeaturesDf\n",
    "df['duration_ms'] = audioFeaturesDf['duration_ms']\n",
    "df['acousticness'] = audioFeaturesDf['acousticness']\n",
    "df['danceability'] = audioFeaturesDf['danceability']\n",
    "df['energy'] = audioFeaturesDf['energy']\n",
    "df['instrumentalness'] = audioFeaturesDf['instrumentalness']\n",
    "df['liveness'] = audioFeaturesDf['liveness']\n",
    "df['loudness'] = audioFeaturesDf['loudness']\n",
    "df['speechiness'] = audioFeaturesDf['speechiness']\n",
    "df['valence'] = audioFeaturesDf['valence']\n",
    "df['tempo'] = audioFeaturesDf['tempo']\n",
    "df"
   ]
  },
  {
   "cell_type": "code",
   "execution_count": 80,
   "metadata": {},
   "outputs": [],
   "source": [
    "#visualization\n",
    "#plotting all the new metrics in our dataframe vs streams"
   ]
  },
  {
   "cell_type": "code",
   "execution_count": 81,
   "metadata": {},
   "outputs": [
    {
     "output_type": "stream",
     "name": "stdout",
     "text": [
      "[inf, inf, inf, inf, inf, inf, inf, inf, inf, inf, inf, inf, inf, inf, inf, inf, inf, inf, inf, inf, inf, inf, inf, inf, inf, inf, inf, inf, inf, inf, inf, inf, inf, inf, inf, inf, inf, inf, inf, inf, inf, inf, inf, inf, inf, inf, inf, inf, inf, inf, inf, inf, inf, inf, inf, inf, inf, inf, inf, inf, inf, inf, inf, inf, inf, inf, inf, inf, inf, inf, inf, inf, inf, inf, inf, inf, inf, inf, inf, inf, inf, inf, inf, inf, inf, inf, inf, inf, inf, inf, inf, inf, inf, inf, inf, inf, inf, inf, inf, inf]\n"
     ]
    },
    {
     "output_type": "error",
     "ename": "ValueError",
     "evalue": "supplied range of [inf, inf] is not finite",
     "traceback": [
      "\u001b[1;31m---------------------------------------------------------------------------\u001b[0m",
      "\u001b[1;31mValueError\u001b[0m                                Traceback (most recent call last)",
      "\u001b[1;32m<ipython-input-81-a6e3ec8520b3>\u001b[0m in \u001b[0;36m<module>\u001b[1;34m\u001b[0m\n\u001b[0;32m      8\u001b[0m     \u001b[0mdata\u001b[0m\u001b[1;33m.\u001b[0m\u001b[0mappend\u001b[0m\u001b[1;33m(\u001b[0m\u001b[0mnp\u001b[0m\u001b[1;33m.\u001b[0m\u001b[0mmean\u001b[0m\u001b[1;33m(\u001b[0m\u001b[0mdf\u001b[0m\u001b[1;33m[\u001b[0m\u001b[1;34m'streams'\u001b[0m\u001b[1;33m]\u001b[0m\u001b[1;33m.\u001b[0m\u001b[0msample\u001b[0m\u001b[1;33m(\u001b[0m\u001b[0mn\u001b[0m\u001b[1;33m=\u001b[0m\u001b[1;36m100\u001b[0m\u001b[1;33m)\u001b[0m\u001b[1;33m)\u001b[0m\u001b[1;33m)\u001b[0m\u001b[1;33m\u001b[0m\u001b[1;33m\u001b[0m\u001b[0m\n\u001b[0;32m      9\u001b[0m \u001b[0mprint\u001b[0m\u001b[1;33m(\u001b[0m\u001b[0mdata\u001b[0m\u001b[1;33m)\u001b[0m\u001b[1;33m\u001b[0m\u001b[1;33m\u001b[0m\u001b[0m\n\u001b[1;32m---> 10\u001b[1;33m \u001b[0mplt\u001b[0m\u001b[1;33m.\u001b[0m\u001b[0mhist\u001b[0m\u001b[1;33m(\u001b[0m\u001b[0mdata\u001b[0m\u001b[1;33m)\u001b[0m\u001b[1;33m\u001b[0m\u001b[1;33m\u001b[0m\u001b[0m\n\u001b[0m\u001b[0;32m     11\u001b[0m \u001b[0mplt\u001b[0m\u001b[1;33m.\u001b[0m\u001b[0mxlabel\u001b[0m\u001b[1;33m(\u001b[0m\u001b[1;34m\"Estimate\"\u001b[0m\u001b[1;33m)\u001b[0m\u001b[1;33m\u001b[0m\u001b[1;33m\u001b[0m\u001b[0m\n\u001b[0;32m     12\u001b[0m \u001b[0mplt\u001b[0m\u001b[1;33m.\u001b[0m\u001b[0mylabel\u001b[0m\u001b[1;33m(\u001b[0m\u001b[1;34m\"Frequency\"\u001b[0m\u001b[1;33m)\u001b[0m\u001b[1;33m\u001b[0m\u001b[1;33m\u001b[0m\u001b[0m\n",
      "\u001b[1;32m~\\AppData\\Local\\Programs\\Python\\Python38\\lib\\site-packages\\matplotlib\\pyplot.py\u001b[0m in \u001b[0;36mhist\u001b[1;34m(x, bins, range, density, weights, cumulative, bottom, histtype, align, orientation, rwidth, log, color, label, stacked, data, **kwargs)\u001b[0m\n\u001b[0;32m   2683\u001b[0m         \u001b[0morientation\u001b[0m\u001b[1;33m=\u001b[0m\u001b[1;34m'vertical'\u001b[0m\u001b[1;33m,\u001b[0m \u001b[0mrwidth\u001b[0m\u001b[1;33m=\u001b[0m\u001b[1;32mNone\u001b[0m\u001b[1;33m,\u001b[0m \u001b[0mlog\u001b[0m\u001b[1;33m=\u001b[0m\u001b[1;32mFalse\u001b[0m\u001b[1;33m,\u001b[0m \u001b[0mcolor\u001b[0m\u001b[1;33m=\u001b[0m\u001b[1;32mNone\u001b[0m\u001b[1;33m,\u001b[0m\u001b[1;33m\u001b[0m\u001b[1;33m\u001b[0m\u001b[0m\n\u001b[0;32m   2684\u001b[0m         label=None, stacked=False, *, data=None, **kwargs):\n\u001b[1;32m-> 2685\u001b[1;33m     return gca().hist(\n\u001b[0m\u001b[0;32m   2686\u001b[0m         \u001b[0mx\u001b[0m\u001b[1;33m,\u001b[0m \u001b[0mbins\u001b[0m\u001b[1;33m=\u001b[0m\u001b[0mbins\u001b[0m\u001b[1;33m,\u001b[0m \u001b[0mrange\u001b[0m\u001b[1;33m=\u001b[0m\u001b[0mrange\u001b[0m\u001b[1;33m,\u001b[0m \u001b[0mdensity\u001b[0m\u001b[1;33m=\u001b[0m\u001b[0mdensity\u001b[0m\u001b[1;33m,\u001b[0m \u001b[0mweights\u001b[0m\u001b[1;33m=\u001b[0m\u001b[0mweights\u001b[0m\u001b[1;33m,\u001b[0m\u001b[1;33m\u001b[0m\u001b[1;33m\u001b[0m\u001b[0m\n\u001b[0;32m   2687\u001b[0m         \u001b[0mcumulative\u001b[0m\u001b[1;33m=\u001b[0m\u001b[0mcumulative\u001b[0m\u001b[1;33m,\u001b[0m \u001b[0mbottom\u001b[0m\u001b[1;33m=\u001b[0m\u001b[0mbottom\u001b[0m\u001b[1;33m,\u001b[0m \u001b[0mhisttype\u001b[0m\u001b[1;33m=\u001b[0m\u001b[0mhisttype\u001b[0m\u001b[1;33m,\u001b[0m\u001b[1;33m\u001b[0m\u001b[1;33m\u001b[0m\u001b[0m\n",
      "\u001b[1;32m~\\AppData\\Local\\Programs\\Python\\Python38\\lib\\site-packages\\matplotlib\\__init__.py\u001b[0m in \u001b[0;36minner\u001b[1;34m(ax, data, *args, **kwargs)\u001b[0m\n\u001b[0;32m   1445\u001b[0m     \u001b[1;32mdef\u001b[0m \u001b[0minner\u001b[0m\u001b[1;33m(\u001b[0m\u001b[0max\u001b[0m\u001b[1;33m,\u001b[0m \u001b[1;33m*\u001b[0m\u001b[0margs\u001b[0m\u001b[1;33m,\u001b[0m \u001b[0mdata\u001b[0m\u001b[1;33m=\u001b[0m\u001b[1;32mNone\u001b[0m\u001b[1;33m,\u001b[0m \u001b[1;33m**\u001b[0m\u001b[0mkwargs\u001b[0m\u001b[1;33m)\u001b[0m\u001b[1;33m:\u001b[0m\u001b[1;33m\u001b[0m\u001b[1;33m\u001b[0m\u001b[0m\n\u001b[0;32m   1446\u001b[0m         \u001b[1;32mif\u001b[0m \u001b[0mdata\u001b[0m \u001b[1;32mis\u001b[0m \u001b[1;32mNone\u001b[0m\u001b[1;33m:\u001b[0m\u001b[1;33m\u001b[0m\u001b[1;33m\u001b[0m\u001b[0m\n\u001b[1;32m-> 1447\u001b[1;33m             \u001b[1;32mreturn\u001b[0m \u001b[0mfunc\u001b[0m\u001b[1;33m(\u001b[0m\u001b[0max\u001b[0m\u001b[1;33m,\u001b[0m \u001b[1;33m*\u001b[0m\u001b[0mmap\u001b[0m\u001b[1;33m(\u001b[0m\u001b[0msanitize_sequence\u001b[0m\u001b[1;33m,\u001b[0m \u001b[0margs\u001b[0m\u001b[1;33m)\u001b[0m\u001b[1;33m,\u001b[0m \u001b[1;33m**\u001b[0m\u001b[0mkwargs\u001b[0m\u001b[1;33m)\u001b[0m\u001b[1;33m\u001b[0m\u001b[1;33m\u001b[0m\u001b[0m\n\u001b[0m\u001b[0;32m   1448\u001b[0m \u001b[1;33m\u001b[0m\u001b[0m\n\u001b[0;32m   1449\u001b[0m         \u001b[0mbound\u001b[0m \u001b[1;33m=\u001b[0m \u001b[0mnew_sig\u001b[0m\u001b[1;33m.\u001b[0m\u001b[0mbind\u001b[0m\u001b[1;33m(\u001b[0m\u001b[0max\u001b[0m\u001b[1;33m,\u001b[0m \u001b[1;33m*\u001b[0m\u001b[0margs\u001b[0m\u001b[1;33m,\u001b[0m \u001b[1;33m**\u001b[0m\u001b[0mkwargs\u001b[0m\u001b[1;33m)\u001b[0m\u001b[1;33m\u001b[0m\u001b[1;33m\u001b[0m\u001b[0m\n",
      "\u001b[1;32m~\\AppData\\Local\\Programs\\Python\\Python38\\lib\\site-packages\\matplotlib\\axes\\_axes.py\u001b[0m in \u001b[0;36mhist\u001b[1;34m(self, x, bins, range, density, weights, cumulative, bottom, histtype, align, orientation, rwidth, log, color, label, stacked, **kwargs)\u001b[0m\n\u001b[0;32m   6649\u001b[0m             \u001b[1;31m# this will automatically overwrite bins,\u001b[0m\u001b[1;33m\u001b[0m\u001b[1;33m\u001b[0m\u001b[1;33m\u001b[0m\u001b[0m\n\u001b[0;32m   6650\u001b[0m             \u001b[1;31m# so that each histogram uses the same bins\u001b[0m\u001b[1;33m\u001b[0m\u001b[1;33m\u001b[0m\u001b[1;33m\u001b[0m\u001b[0m\n\u001b[1;32m-> 6651\u001b[1;33m             \u001b[0mm\u001b[0m\u001b[1;33m,\u001b[0m \u001b[0mbins\u001b[0m \u001b[1;33m=\u001b[0m \u001b[0mnp\u001b[0m\u001b[1;33m.\u001b[0m\u001b[0mhistogram\u001b[0m\u001b[1;33m(\u001b[0m\u001b[0mx\u001b[0m\u001b[1;33m[\u001b[0m\u001b[0mi\u001b[0m\u001b[1;33m]\u001b[0m\u001b[1;33m,\u001b[0m \u001b[0mbins\u001b[0m\u001b[1;33m,\u001b[0m \u001b[0mweights\u001b[0m\u001b[1;33m=\u001b[0m\u001b[0mw\u001b[0m\u001b[1;33m[\u001b[0m\u001b[0mi\u001b[0m\u001b[1;33m]\u001b[0m\u001b[1;33m,\u001b[0m \u001b[1;33m**\u001b[0m\u001b[0mhist_kwargs\u001b[0m\u001b[1;33m)\u001b[0m\u001b[1;33m\u001b[0m\u001b[1;33m\u001b[0m\u001b[0m\n\u001b[0m\u001b[0;32m   6652\u001b[0m             \u001b[0mtops\u001b[0m\u001b[1;33m.\u001b[0m\u001b[0mappend\u001b[0m\u001b[1;33m(\u001b[0m\u001b[0mm\u001b[0m\u001b[1;33m)\u001b[0m\u001b[1;33m\u001b[0m\u001b[1;33m\u001b[0m\u001b[0m\n\u001b[0;32m   6653\u001b[0m         \u001b[0mtops\u001b[0m \u001b[1;33m=\u001b[0m \u001b[0mnp\u001b[0m\u001b[1;33m.\u001b[0m\u001b[0marray\u001b[0m\u001b[1;33m(\u001b[0m\u001b[0mtops\u001b[0m\u001b[1;33m,\u001b[0m \u001b[0mfloat\u001b[0m\u001b[1;33m)\u001b[0m  \u001b[1;31m# causes problems later if it's an int\u001b[0m\u001b[1;33m\u001b[0m\u001b[1;33m\u001b[0m\u001b[0m\n",
      "\u001b[1;32m<__array_function__ internals>\u001b[0m in \u001b[0;36mhistogram\u001b[1;34m(*args, **kwargs)\u001b[0m\n",
      "\u001b[1;32m~\\AppData\\Local\\Programs\\Python\\Python38\\lib\\site-packages\\numpy\\lib\\histograms.py\u001b[0m in \u001b[0;36mhistogram\u001b[1;34m(a, bins, range, normed, weights, density)\u001b[0m\n\u001b[0;32m    790\u001b[0m     \u001b[0ma\u001b[0m\u001b[1;33m,\u001b[0m \u001b[0mweights\u001b[0m \u001b[1;33m=\u001b[0m \u001b[0m_ravel_and_check_weights\u001b[0m\u001b[1;33m(\u001b[0m\u001b[0ma\u001b[0m\u001b[1;33m,\u001b[0m \u001b[0mweights\u001b[0m\u001b[1;33m)\u001b[0m\u001b[1;33m\u001b[0m\u001b[1;33m\u001b[0m\u001b[0m\n\u001b[0;32m    791\u001b[0m \u001b[1;33m\u001b[0m\u001b[0m\n\u001b[1;32m--> 792\u001b[1;33m     \u001b[0mbin_edges\u001b[0m\u001b[1;33m,\u001b[0m \u001b[0muniform_bins\u001b[0m \u001b[1;33m=\u001b[0m \u001b[0m_get_bin_edges\u001b[0m\u001b[1;33m(\u001b[0m\u001b[0ma\u001b[0m\u001b[1;33m,\u001b[0m \u001b[0mbins\u001b[0m\u001b[1;33m,\u001b[0m \u001b[0mrange\u001b[0m\u001b[1;33m,\u001b[0m \u001b[0mweights\u001b[0m\u001b[1;33m)\u001b[0m\u001b[1;33m\u001b[0m\u001b[1;33m\u001b[0m\u001b[0m\n\u001b[0m\u001b[0;32m    793\u001b[0m \u001b[1;33m\u001b[0m\u001b[0m\n\u001b[0;32m    794\u001b[0m     \u001b[1;31m# Histogram is an integer or a float array depending on the weights.\u001b[0m\u001b[1;33m\u001b[0m\u001b[1;33m\u001b[0m\u001b[1;33m\u001b[0m\u001b[0m\n",
      "\u001b[1;32m~\\AppData\\Local\\Programs\\Python\\Python38\\lib\\site-packages\\numpy\\lib\\histograms.py\u001b[0m in \u001b[0;36m_get_bin_edges\u001b[1;34m(a, bins, range, weights)\u001b[0m\n\u001b[0;32m    424\u001b[0m             \u001b[1;32mraise\u001b[0m \u001b[0mValueError\u001b[0m\u001b[1;33m(\u001b[0m\u001b[1;34m'`bins` must be positive, when an integer'\u001b[0m\u001b[1;33m)\u001b[0m\u001b[1;33m\u001b[0m\u001b[1;33m\u001b[0m\u001b[0m\n\u001b[0;32m    425\u001b[0m \u001b[1;33m\u001b[0m\u001b[0m\n\u001b[1;32m--> 426\u001b[1;33m         \u001b[0mfirst_edge\u001b[0m\u001b[1;33m,\u001b[0m \u001b[0mlast_edge\u001b[0m \u001b[1;33m=\u001b[0m \u001b[0m_get_outer_edges\u001b[0m\u001b[1;33m(\u001b[0m\u001b[0ma\u001b[0m\u001b[1;33m,\u001b[0m \u001b[0mrange\u001b[0m\u001b[1;33m)\u001b[0m\u001b[1;33m\u001b[0m\u001b[1;33m\u001b[0m\u001b[0m\n\u001b[0m\u001b[0;32m    427\u001b[0m \u001b[1;33m\u001b[0m\u001b[0m\n\u001b[0;32m    428\u001b[0m     \u001b[1;32melif\u001b[0m \u001b[0mnp\u001b[0m\u001b[1;33m.\u001b[0m\u001b[0mndim\u001b[0m\u001b[1;33m(\u001b[0m\u001b[0mbins\u001b[0m\u001b[1;33m)\u001b[0m \u001b[1;33m==\u001b[0m \u001b[1;36m1\u001b[0m\u001b[1;33m:\u001b[0m\u001b[1;33m\u001b[0m\u001b[1;33m\u001b[0m\u001b[0m\n",
      "\u001b[1;32m~\\AppData\\Local\\Programs\\Python\\Python38\\lib\\site-packages\\numpy\\lib\\histograms.py\u001b[0m in \u001b[0;36m_get_outer_edges\u001b[1;34m(a, range)\u001b[0m\n\u001b[0;32m    313\u001b[0m                 'max must be larger than min in range parameter.')\n\u001b[0;32m    314\u001b[0m         \u001b[1;32mif\u001b[0m \u001b[1;32mnot\u001b[0m \u001b[1;33m(\u001b[0m\u001b[0mnp\u001b[0m\u001b[1;33m.\u001b[0m\u001b[0misfinite\u001b[0m\u001b[1;33m(\u001b[0m\u001b[0mfirst_edge\u001b[0m\u001b[1;33m)\u001b[0m \u001b[1;32mand\u001b[0m \u001b[0mnp\u001b[0m\u001b[1;33m.\u001b[0m\u001b[0misfinite\u001b[0m\u001b[1;33m(\u001b[0m\u001b[0mlast_edge\u001b[0m\u001b[1;33m)\u001b[0m\u001b[1;33m)\u001b[0m\u001b[1;33m:\u001b[0m\u001b[1;33m\u001b[0m\u001b[1;33m\u001b[0m\u001b[0m\n\u001b[1;32m--> 315\u001b[1;33m             raise ValueError(\n\u001b[0m\u001b[0;32m    316\u001b[0m                 \"supplied range of [{}, {}] is not finite\".format(first_edge, last_edge))\n\u001b[0;32m    317\u001b[0m     \u001b[1;32melif\u001b[0m \u001b[0ma\u001b[0m\u001b[1;33m.\u001b[0m\u001b[0msize\u001b[0m \u001b[1;33m==\u001b[0m \u001b[1;36m0\u001b[0m\u001b[1;33m:\u001b[0m\u001b[1;33m\u001b[0m\u001b[1;33m\u001b[0m\u001b[0m\n",
      "\u001b[1;31mValueError\u001b[0m: supplied range of [inf, inf] is not finite"
     ]
    }
   ],
   "source": [
    "from scipy.stats import normaltest\n",
    "from numpy.random import seed\n",
    "from numpy.random import randn\n",
    "alpha = 0.05\n",
    "#data = df['tempo'].sample(n=10).array\n",
    "data = []\n",
    "for i in range(0,100):\n",
    "    data.append(np.mean(df['streams'].sample(n=100)))\n",
    "print(data)\n",
    "plt.hist(data)\n",
    "plt.xlabel(\"Estimate\")\n",
    "plt.ylabel(\"Frequency\")"
   ]
  },
  {
   "cell_type": "code",
   "execution_count": null,
   "metadata": {},
   "outputs": [],
   "source": [
    "plt.scatter(df['duration_ms'],df['streams'])\n",
    "plt.xlabel('duration in milliseconds')\n",
    "plt.ylabel('streams in millions')"
   ]
  },
  {
   "cell_type": "code",
   "execution_count": null,
   "metadata": {},
   "outputs": [],
   "source": [
    "plt.scatter(df['acousticness'],df['streams'])\n",
    "plt.xlabel('accousticness scale of 0-1')\n",
    "plt.ylabel('streams in millions')"
   ]
  },
  {
   "cell_type": "code",
   "execution_count": null,
   "metadata": {},
   "outputs": [],
   "source": [
    "plt.scatter(df['danceability'],df['streams'])\n",
    "plt.xlabel('danceability scale of 0-1')\n",
    "plt.ylabel('streams in millions')"
   ]
  },
  {
   "cell_type": "code",
   "execution_count": null,
   "metadata": {},
   "outputs": [],
   "source": [
    "plt.scatter(df['energy'],df['streams'])\n",
    "plt.xlabel('energy scale of 0-1')\n",
    "plt.ylabel('streams in millions')"
   ]
  },
  {
   "cell_type": "code",
   "execution_count": null,
   "metadata": {},
   "outputs": [],
   "source": [
    "plt.scatter(df['instrumentalness'],df['streams'])\n",
    "plt.xlabel('instrumentalness scale of 0-1')\n",
    "plt.ylabel('streams in millions')"
   ]
  },
  {
   "cell_type": "code",
   "execution_count": null,
   "metadata": {},
   "outputs": [],
   "source": [
    "plt.scatter(df['liveness'],df['streams'])\n",
    "plt.xlabel('liveness scale of 0-1')\n",
    "plt.ylabel('streams in millions')"
   ]
  },
  {
   "cell_type": "code",
   "execution_count": null,
   "metadata": {},
   "outputs": [],
   "source": [
    "plt.scatter(df['loudness'],df['streams'])\n",
    "plt.xlabel('loudness SCALE???????????????????')\n",
    "plt.ylabel('streams in millions')"
   ]
  },
  {
   "cell_type": "code",
   "execution_count": null,
   "metadata": {},
   "outputs": [],
   "source": [
    "plt.scatter(df['speechiness'],df['streams'])\n",
    "plt.xlabel('speechiness scale of 0-.5')\n",
    "plt.ylabel('streams in millions')"
   ]
  },
  {
   "cell_type": "code",
   "execution_count": null,
   "metadata": {},
   "outputs": [],
   "source": [
    "plt.scatter(df['valence'],df['streams'])\n",
    "plt.xlabel('valence scale of 0-1')\n",
    "plt.ylabel('streams in millions')"
   ]
  },
  {
   "cell_type": "code",
   "execution_count": null,
   "metadata": {},
   "outputs": [],
   "source": [
    "plt.scatter(df['tempo'],df['streams'])\n",
    "plt.xlabel('tempo scale of 0-200')\n",
    "plt.ylabel('streams in millions')"
   ]
  },
  {
   "cell_type": "code",
   "execution_count": null,
   "metadata": {},
   "outputs": [],
   "source": [
    "#violin plot of genre vs streams in millions\n",
    "ax = sns.violinplot(x='genre', y='streams', data=df, palette='muted')\n"
   ]
  },
  {
   "cell_type": "code",
   "execution_count": null,
   "metadata": {},
   "outputs": [],
   "source": [
    "plt.scatter(df['date'],df['streams'])\n",
    "plt.xlabel('date')\n",
    "plt.ylabel('streams in millions')"
   ]
  },
  {
   "source": [
    "Can we find any trends within these features for the first 10 songs on our dataframe (a.k.a. the top 10 songs on the first of January)?"
   ],
   "cell_type": "markdown",
   "metadata": {}
  },
  {
   "cell_type": "code",
   "execution_count": null,
   "metadata": {},
   "outputs": [],
   "source": [
    "sliceOfData = df.head(10)"
   ]
  },
  {
   "cell_type": "code",
   "execution_count": null,
   "metadata": {},
   "outputs": [],
   "source": []
  }
 ],
 "metadata": {
  "kernelspec": {
   "display_name": "Python 3",
   "language": "python",
   "name": "python3"
  },
  "language_info": {
   "codemirror_mode": {
    "name": "ipython",
    "version": 3
   },
   "file_extension": ".py",
   "mimetype": "text/x-python",
   "name": "python",
   "nbconvert_exporter": "python",
   "pygments_lexer": "ipython3",
   "version": "3.8.6-final"
  }
 },
 "nbformat": 4,
 "nbformat_minor": 2
}